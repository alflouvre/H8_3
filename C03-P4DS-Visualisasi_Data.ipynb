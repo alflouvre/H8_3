{
 "cells": [
  {
   "cell_type": "markdown",
   "metadata": {},
   "source": [
    "# CHAPTER 5\n",
    "Di Aljabar Linear ini kita akan belajar cara pemrograman yang sedikit berbeda dalam pemrograman pada umumnya kita akan melakukan pemrograman berbasis Array atau bisa disebut dengan Array Programming. Di Array Programming ini kita tidak akan melakukan manipulasi data dengan Looping melainkan menggunakan berbagai operasi kedalam Array secara keseluruhan.\n",
    "\n",
    "Seperti yang telah kita pelajari di lesson sebelumnya bagaimana kita melakukan slicing filtering dan juga melihat perbedaan antara Python List dan NumPy Array dalam hal Copy dan View."
   ]
  },
  {
   "cell_type": "code",
   "execution_count": 5,
   "metadata": {},
   "outputs": [
    {
     "data": {
      "text/plain": [
       "'1.21.5'"
      ]
     },
     "execution_count": 5,
     "metadata": {},
     "output_type": "execute_result"
    }
   ],
   "source": [
    "import numpy as np\n",
    "np.__version__"
   ]
  },
  {
   "cell_type": "markdown",
   "metadata": {},
   "source": [
    "# Lesson 1 : Aljabar Linear"
   ]
  },
  {
   "cell_type": "markdown",
   "metadata": {},
   "source": [
    "Contoh kasus:\n",
    "ketika saya menemukan nasi uduk yang sangat enak, lalu saya kabarin ke temen saya bahwa ada nasi uduk yang saya rekomendasikan dan mereka nitip untuk dibelikan nasi uduk dan berbagai sarapan lainnya. Awalnya seru tapi makin hari makin banyak pesanan yang saya terima sampai ada pesanan yang berbeda-beda. Ada yang pesan nasi uduk saja, ada yang ditambah gorengan, dan ada yang tambah kopi. Semakin banyak dan semakin bervariasi, semakin susah mencari tahu siapa yang pesan apa dan tagihannya pun berbeda-beda sehingga akan kesulitan untuk saya menagih ke temen-temen saya.\n",
    "\n",
    "Nah masalah2 seperti ini bisa kita jabarkan dengan aljabar linear.\n",
    " "
   ]
  },
  {
   "cell_type": "markdown",
   "metadata": {},
   "source": [
    "Diketahui :\n",
    "2 Nasi 0 Gorengan 0 Kopi 0 Lontong = 20.000\n",
    "1 Nasi 0 Gorengan 2 Kopi 4 Lontong = 32.000\n",
    "1 Nasi 2 Gorengan 1 Kopi 0 Lontong = 20.000\n",
    "4 Nasi 6 Gorengan 0 Kopi 2 Lontong = 61.000"
   ]
  },
  {
   "cell_type": "code",
   "execution_count": 18,
   "metadata": {},
   "outputs": [
    {
     "data": {
      "text/plain": [
       "array([10000.,  2500.,  5000.,  3000.])"
      ]
     },
     "execution_count": 18,
     "metadata": {},
     "output_type": "execute_result"
    }
   ],
   "source": [
    "orders = np.array([\n",
    "    [2, 0, 0, 0],\n",
    "    [1, 0, 2, 4],\n",
    "    [1, 2, 1, 0],\n",
    "    [4, 6, 0, 2]\n",
    "])\n",
    "totals = np.array([20000, 32000, 20000, 61000])\n",
    "prices = np.linalg.solve(orders, totals)\n",
    "prices"
   ]
  },
  {
   "cell_type": "markdown",
   "metadata": {},
   "source": [
    "Jadi untuk harga Nasi 10000, Gorengan 2500, Kopi 5000, Lontong 3000."
   ]
  },
  {
   "cell_type": "markdown",
   "metadata": {},
   "source": [
    "Jika ingin mencari total harga sbb :"
   ]
  },
  {
   "cell_type": "code",
   "execution_count": 17,
   "metadata": {},
   "outputs": [
    {
     "data": {
      "text/plain": [
       "array([20000., 32000., 20000., 61000.])"
      ]
     },
     "execution_count": 17,
     "metadata": {},
     "output_type": "execute_result"
    }
   ],
   "source": [
    "orders @ prices"
   ]
  },
  {
   "cell_type": "markdown",
   "metadata": {},
   "source": [
    "Jadi di NumPy ini kita bisa menggunakan module linalg / linear aljabar untuk menghitung nilai dari aljabar linear. Kita bisa menggunakan method solve untuk mengungkap misteri harga per item dari titipan sarapan temen-temen kita. Kita juga bisa menggunakan notasi at sign / akeong untuk mengalikan kedua array / matriks multification. Dalam hal ini Array of orders dan array of prices."
   ]
  },
  {
   "cell_type": "markdown",
   "metadata": {},
   "source": [
    "# Lesson 2 : Fungsi Universal"
   ]
  },
  {
   "cell_type": "markdown",
   "metadata": {},
   "source": [
    "Kita akan membahas fungsi2 umum/ universal yang biasa kita gunakan untuk operasi matriks/ vektor. Jika kita bekerja dengan data yang jumlahnya besar/ matriks yang jumlahnya banyak pasti akan berhadapan dengan operasi matematika antar matriks seperti penjumlahan, pengurangan, perkalian, pembagian dan sebagainya.\n",
    "\n",
    "Nah sebelum kita melihat contoh dan demonya, kita bahas dulu yang kita pelajari dari lesson sebelumnya. Pastinya kita sudah belajar tentang Aljabar Linear bagaimana Aljabar Linear yang kita gunakan untuk solving problem keseharian kita."
   ]
  },
  {
   "cell_type": "markdown",
   "metadata": {},
   "source": [
    "Misalnya saya ingin punya 2 Array yang akan kita operasi matematika."
   ]
  },
  {
   "cell_type": "code",
   "execution_count": 20,
   "metadata": {},
   "outputs": [
    {
     "data": {
      "text/plain": [
       "(array([1, 2, 3, 4, 5]), array([ 6,  7,  8,  9, 10]))"
      ]
     },
     "execution_count": 20,
     "metadata": {},
     "output_type": "execute_result"
    }
   ],
   "source": [
    "a, b = np.split(np.arange(1, 11), 2)\n",
    "a, b"
   ]
  },
  {
   "cell_type": "code",
   "execution_count": 21,
   "metadata": {},
   "outputs": [
    {
     "data": {
      "text/plain": [
       "array([ 7,  9, 11, 13, 15])"
      ]
     },
     "execution_count": 21,
     "metadata": {},
     "output_type": "execute_result"
    }
   ],
   "source": [
    "a + b"
   ]
  },
  {
   "cell_type": "code",
   "execution_count": 22,
   "metadata": {},
   "outputs": [
    {
     "data": {
      "text/plain": [
       "array([ 6, 14, 24, 36, 50])"
      ]
     },
     "execution_count": 22,
     "metadata": {},
     "output_type": "execute_result"
    }
   ],
   "source": [
    "a * b"
   ]
  },
  {
   "cell_type": "code",
   "execution_count": 23,
   "metadata": {},
   "outputs": [
    {
     "data": {
      "text/plain": [
       "array([-5, -5, -5, -5, -5])"
      ]
     },
     "execution_count": 23,
     "metadata": {},
     "output_type": "execute_result"
    }
   ],
   "source": [
    "a - b"
   ]
  },
  {
   "cell_type": "code",
   "execution_count": 24,
   "metadata": {},
   "outputs": [
    {
     "data": {
      "text/plain": [
       "array([0.16666667, 0.28571429, 0.375     , 0.44444444, 0.5       ])"
      ]
     },
     "execution_count": 24,
     "metadata": {},
     "output_type": "execute_result"
    }
   ],
   "source": [
    "a / b"
   ]
  },
  {
   "cell_type": "code",
   "execution_count": 28,
   "metadata": {},
   "outputs": [
    {
     "data": {
      "text/plain": [
       "array([-5, -5, -5, -5, -5])"
      ]
     },
     "execution_count": 28,
     "metadata": {},
     "output_type": "execute_result"
    }
   ],
   "source": [
    "a - b"
   ]
  },
  {
   "cell_type": "code",
   "execution_count": 27,
   "metadata": {},
   "outputs": [
    {
     "data": {
      "text/plain": [
       "array([5, 5, 5, 5, 5])"
      ]
     },
     "execution_count": 27,
     "metadata": {},
     "output_type": "execute_result"
    }
   ],
   "source": [
    "b - a"
   ]
  },
  {
   "cell_type": "code",
   "execution_count": 29,
   "metadata": {},
   "outputs": [
    {
     "data": {
      "text/plain": [
       "array([4, 5, 6, 7, 8])"
      ]
     },
     "execution_count": 29,
     "metadata": {},
     "output_type": "execute_result"
    }
   ],
   "source": [
    "a + 3"
   ]
  },
  {
   "cell_type": "code",
   "execution_count": 30,
   "metadata": {},
   "outputs": [
    {
     "data": {
      "text/plain": [
       "array([4, 5, 6, 7, 8])"
      ]
     },
     "execution_count": 30,
     "metadata": {},
     "output_type": "execute_result"
    }
   ],
   "source": [
    "a + np.repeat(3, 5)"
   ]
  },
  {
   "cell_type": "markdown",
   "metadata": {},
   "source": [
    "Operasi-operasi ini di NumPy biasa disebut Universal Function.\n",
    "http://docs.scipy.org/doc/numpy/reference/ufuncs.html#available-ufuncs"
   ]
  },
  {
   "cell_type": "code",
   "execution_count": 31,
   "metadata": {},
   "outputs": [
    {
     "data": {
      "text/plain": [
       "(array([[0., 1., 2.],\n",
       "        [3., 4., 5.],\n",
       "        [6., 7., 8.]]),\n",
       " array([0., 1., 2.]))"
      ]
     },
     "execution_count": 31,
     "metadata": {},
     "output_type": "execute_result"
    }
   ],
   "source": [
    "x1 = np.arange(9.0).reshape((3,3))\n",
    "x2 = np.arange(3.0)\n",
    "x1, x2"
   ]
  },
  {
   "cell_type": "code",
   "execution_count": 32,
   "metadata": {},
   "outputs": [
    {
     "data": {
      "text/plain": [
       "array([[ 0.,  2.,  4.],\n",
       "       [ 3.,  5.,  7.],\n",
       "       [ 6.,  8., 10.]])"
      ]
     },
     "execution_count": 32,
     "metadata": {},
     "output_type": "execute_result"
    }
   ],
   "source": [
    "np.add(x1, x2)"
   ]
  },
  {
   "cell_type": "code",
   "execution_count": 33,
   "metadata": {},
   "outputs": [
    {
     "data": {
      "text/plain": [
       "array([[ 2.,  3.,  4.],\n",
       "       [ 5.,  6.,  7.],\n",
       "       [ 8.,  9., 10.]])"
      ]
     },
     "execution_count": 33,
     "metadata": {},
     "output_type": "execute_result"
    }
   ],
   "source": [
    "np.add(x1, 2)"
   ]
  },
  {
   "cell_type": "markdown",
   "metadata": {},
   "source": [
    "Jadi kita tidak perlu melakukan Looping untuk operasi matematika lainnya. Operasi matematika umum seperti tambah/kali/kurang/bagi sudah divektorasi sehingga dapat digunakan untuk operasi matriks yang sifatnya 1 dimensi ataupun multidimensi."
   ]
  },
  {
   "cell_type": "markdown",
   "metadata": {},
   "source": [
    "# Lesson 3 : Operasi Matriks Lainnya"
   ]
  },
  {
   "cell_type": "markdown",
   "metadata": {},
   "source": [
    "Kita akan membahas beberapa operasi matriks yang menarik yang bisa kita gunakan. Setelah sebelumnya kita mempelajari fungsi universal seperti kurang/bagi/kali/tambah dll.\n",
    "\n",
    "Nah ada banyak fungsi statistik di NumPy yang bisa kita gunakan seperti average, "
   ]
  },
  {
   "cell_type": "code",
   "execution_count": 10,
   "metadata": {},
   "outputs": [
    {
     "data": {
      "text/plain": [
       "array([ 99,  45,  70, 162, 146,  70, 177, 176,  47, 148, 123,  67,  90,\n",
       "       122,  34, 160, 135, 102,  62,  61,  85,  52, 153, 128,  89,  37,\n",
       "       109,  60, 128,  57, 160,  67, 144,  97, 150, 148,  32, 155, 116,\n",
       "       137,  49,  70, 159, 159,  84, 114,  93, 110,  81, 122, 103,  53,\n",
       "        52, 147,  75,  93,  45,  46, 177,  91,  70,  69,  46, 150,  86,\n",
       "       170, 174, 143,  88,  71, 132,  67, 157, 118,  91, 158, 178, 176,\n",
       "        37, 155,  45,  66,  60,  35, 154,  75,  53,  33,  80, 126,  76,\n",
       "       113, 148, 163,  57,  83, 145, 148, 167, 129], dtype=uint16)"
      ]
     },
     "execution_count": 10,
     "metadata": {},
     "output_type": "execute_result"
    }
   ],
   "source": [
    "study_minutes = np.zeros(100, np.uint16)\n",
    "rand = np.random.RandomState(46)\n",
    "fake_log = rand.randint(30, 180, size=100, dtype=np.uint16)\n",
    "fake_log"
   ]
  },
  {
   "cell_type": "code",
   "execution_count": 44,
   "metadata": {},
   "outputs": [],
   "source": [
    "study_minutes = np.append(study_minutes, [fake_log])"
   ]
  },
  {
   "cell_type": "code",
   "execution_count": 48,
   "metadata": {},
   "outputs": [
    {
     "name": "stdout",
     "output_type": "stream",
     "text": [
      "[45 47 34 52 37 57 32 49 53 52 45 46 46 37 45 35 53 33 57]\n"
     ]
    },
    {
     "data": {
      "text/plain": [
       "855"
      ]
     },
     "execution_count": 48,
     "metadata": {},
     "output_type": "execute_result"
    }
   ],
   "source": [
    "study_less = study_minutes[(study_minutes < 60) & (study_minutes > 0)]\n",
    "print(study_less)\n",
    "np.add.reduce(study_less)"
   ]
  },
  {
   "cell_type": "code",
   "execution_count": 53,
   "metadata": {},
   "outputs": [
    {
     "data": {
      "text/plain": [
       "855"
      ]
     },
     "execution_count": 53,
     "metadata": {},
     "output_type": "execute_result"
    }
   ],
   "source": [
    "np.sum(study_less)"
   ]
  },
  {
   "cell_type": "code",
   "execution_count": 54,
   "metadata": {},
   "outputs": [
    {
     "data": {
      "text/plain": [
       "10415"
      ]
     },
     "execution_count": 54,
     "metadata": {},
     "output_type": "execute_result"
    }
   ],
   "source": [
    "np.sum(study_minutes)"
   ]
  },
  {
   "cell_type": "markdown",
   "metadata": {},
   "source": [
    "https://docs.spicy.org"
   ]
  },
  {
   "cell_type": "markdown",
   "metadata": {},
   "source": [
    "Yang sudah kita pelajari di chapter 5 ini adalah apa itu aljabar linear dan bagaimana pengunaannya untuk memecahkan masalah-masalah yang kita temui. Kemudia kita juga sudah melihat beberapa fungsi universal yang bisa kita gunakan untuk melakukan operasi matematika antar matriks. Terakhir, beberapa operasi matriks lainnya juga sudah kita demokan."
   ]
  }
 ],
 "metadata": {
  "kernelspec": {
   "display_name": "Python 3.9.12 ('base')",
   "language": "python",
   "name": "python3"
  },
  "language_info": {
   "codemirror_mode": {
    "name": "ipython",
    "version": 3
   },
   "file_extension": ".py",
   "mimetype": "text/x-python",
   "name": "python",
   "nbconvert_exporter": "python",
   "pygments_lexer": "ipython3",
   "version": "3.9.12"
  },
  "orig_nbformat": 4,
  "vscode": {
   "interpreter": {
    "hash": "d7288e82646d3164eca24130947288f8779d11454649f2c02a5dfc42af7f324c"
   }
  }
 },
 "nbformat": 4,
 "nbformat_minor": 2
}
