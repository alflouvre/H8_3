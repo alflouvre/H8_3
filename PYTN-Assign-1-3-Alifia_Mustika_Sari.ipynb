{
 "cells": [
  {
   "cell_type": "markdown",
   "metadata": {},
   "source": [
    "# Assignment Python 1"
   ]
  },
  {
   "cell_type": "code",
   "execution_count": null,
   "metadata": {},
   "outputs": [],
   "source": [
    "# Import Primary Modules:\n",
    "\n",
    "import numpy as np # useful for many scientific computing in Python\n",
    "import pandas as pd # primary data structure library\n",
    "import matplotlib.pyplot as plt\n",
    "from PIL import Image # converting images into arrays"
   ]
  },
  {
   "cell_type": "markdown",
   "metadata": {},
   "source": [
    "The aim of this project is to introduce you to data visualization with Python as concrete and as consistent as possible.\n",
    "\n",
    "Using what you’ve learned; download the London Crime Dataset from Kaggle."
   ]
  },
  {
   "cell_type": "markdown",
   "metadata": {},
   "source": [
    " This dataset is a record of crime in major metropolitan areas, such as London, occurs in distinct patterns. This data covers the number of criminal reports by month, LSOA borough, and major/minor category from Jan 2008 - Des 2016.\n",
    "\n",
    "This dataset contains:\n",
    "\n",
    "- lsoa_code: this represents a policing area\n",
    "- borough: the london borough for which the statistic is related\n",
    "- major_category: the major crime category\n",
    "- minor_category: the minor crime category\n",
    "- value: the count of the crime for that particular borough, in that particular month\n",
    "- year: the year of the summary statistic\n",
    "- month: the month of the summary statistic"
   ]
  },
  {
   "cell_type": "markdown",
   "metadata": {},
   "source": [
    "Formulate a question and derive a statistical hypothesis test to answer the question. You have to demostrate that you’re able to make decisions using data in a scientific manner. And the important things, Visualized the data. Examples of question can be:\n",
    "\n",
    "    - What is the change in the number of crime incidents from 2011 to 2016?\n",
    "    - What were the top 3 crimes incidents from 2011 to 2016?"
   ]
  },
  {
   "cell_type": "code",
   "execution_count": null,
   "metadata": {},
   "outputs": [],
   "source": []
  }
 ],
 "metadata": {
  "kernelspec": {
   "display_name": "Python 3.10.7 64-bit (microsoft store)",
   "language": "python",
   "name": "python3"
  },
  "language_info": {
   "codemirror_mode": {
    "name": "ipython",
    "version": 3
   },
   "file_extension": ".py",
   "mimetype": "text/x-python",
   "name": "python",
   "nbconvert_exporter": "python",
   "pygments_lexer": "ipython3",
   "version": "3.10.7"
  },
  "orig_nbformat": 4,
  "vscode": {
   "interpreter": {
    "hash": "65a440aeac0c89e2af7569e0aa53b64434c4b69eb6285e2b0d174d9bca190d54"
   }
  }
 },
 "nbformat": 4,
 "nbformat_minor": 2
}
