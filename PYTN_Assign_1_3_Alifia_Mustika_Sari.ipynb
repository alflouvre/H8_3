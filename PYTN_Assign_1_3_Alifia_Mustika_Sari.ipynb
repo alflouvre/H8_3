{
 "cells": [
  {
   "cell_type": "code",
   "execution_count": null,
   "metadata": {},
   "outputs": [],
   "source": [
    "import numpy as np\n",
    "import pandas as pd"
   ]
  },
  {
   "cell_type": "markdown",
   "metadata": {},
   "source": [
    "The aim of this project is to introduce you to data visualization with Python as concrete and as consistent as possible.\n",
    "\n",
    "Using what you’ve learned; download the London Crime Dataset from Kaggle."
   ]
  },
  {
   "cell_type": "markdown",
   "metadata": {},
   "source": [
    " This dataset is a record of crime in major metropolitan areas, such as London, occurs in distinct patterns. This data covers the number of criminal reports by month, LSOA borough, and major/minor category from Jan 2008 - Des 2016.\n",
    "\n",
    "This dataset contains:\n",
    "\n",
    "- lsoa_code: this represents a policing area\n",
    "- borough: the london borough for which the statistic is related\n",
    "- major_category: the major crime category\n",
    "- minor_category: the minor crime category\n",
    "- value: the count of the crime for that particular borough, in that particular month\n",
    "- year: the year of the summary statistic\n",
    "- month: the month of the summary statistic"
   ]
  },
  {
   "cell_type": "markdown",
   "metadata": {},
   "source": [
    "Formulate a question and derive a statistical hypothesis test to answer the question. You have to demostrate that you’re able to make decisions using data in a scientific manner. And the important things, Visualized the data. Examples of question can be:\n",
    "\n",
    "    - What is the change in the number of crime incidents from 2011 to 2016?\n",
    "    - What were the top 3 crimes incidents from 2011 to 2016?"
   ]
  },
  {
   "cell_type": "code",
   "execution_count": null,
   "metadata": {},
   "outputs": [],
   "source": []
  }
 ],
 "metadata": {
  "kernelspec": {
   "display_name": "Python 3.9.12 ('base')",
   "language": "python",
   "name": "python3"
  },
  "language_info": {
   "name": "python",
   "version": "3.9.12"
  },
  "orig_nbformat": 4,
  "vscode": {
   "interpreter": {
    "hash": "d7288e82646d3164eca24130947288f8779d11454649f2c02a5dfc42af7f324c"
   }
  }
 },
 "nbformat": 4,
 "nbformat_minor": 2
}
