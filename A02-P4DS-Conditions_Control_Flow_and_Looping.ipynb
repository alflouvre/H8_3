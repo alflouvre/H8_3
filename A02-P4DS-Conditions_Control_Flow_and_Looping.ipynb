{
 "cells": [
  {
   "cell_type": "markdown",
   "id": "0c6ac5e2",
   "metadata": {},
   "source": [
    "# Conditions, Control Flow, and Looping"
   ]
  },
  {
   "cell_type": "markdown",
   "id": "fb678301",
   "metadata": {},
   "source": [
    "Python mendukung logical conditions yang biasa dipakai dalam matematika:\n",
    "\n",
    "    - Equals: a == b\n",
    "    - Not Equals: a != b\n",
    "    - Less than: a < b\n",
    "    - Less than or equal to: a <= b\n",
    "    - Greater than: a > b\n",
    "    - Greater than or equal to: a >= b\n",
    "    - These conditions can be used in several ways, most commonly in \"if statements\" and loops.\n",
    "\n",
    "Sebuah \"if statement\" ditulis dengan menggunakan if keyword.\n",
    "\n",
    "Dalam program Python, if statement adalah bagaimana kalian melakukan decision-making. If Statement memungkinkan eksekusi kondisional dari pernyataan atau kelompok pernyataan berdasarkan nilai ekspresi."
   ]
  },
  {
   "cell_type": "markdown",
   "id": "9159a26b",
   "metadata": {},
   "source": [
    "## A. Introduction to the if Statement"
   ]
  },
  {
   "cell_type": "markdown",
   "id": "8fd38fd3",
   "metadata": {},
   "source": [
    "Kita akan mulai dengan melihat tipe pernyataan if yang paling dasar. Dalam bentuknya yang paling sederhana, terlihat seperti ini:"
   ]
  },
  {
   "cell_type": "code",
   "execution_count": 14,
   "id": "0df2a158",
   "metadata": {},
   "outputs": [],
   "source": [
    "# if <expr>:\n",
    "#    <statement>"
   ]
  },
  {
   "cell_type": "markdown",
   "id": "44940748",
   "metadata": {},
   "source": [
    "Pada bentuk yang ditampilkan diatas:\n",
    "- <expr> is an expression evaluated in Boolean context.\n",
    "- <statement> is a valid Python statement, which must be indented.\n",
    "\n",
    "Jika <expr> benar (mengevaluasi ke nilai \"truthy\"), maka <statement> akan dieksekusi. Jika <expr> salah, maka <statement> dilewati dan tidak dieksekusi."
   ]
  },
  {
   "cell_type": "markdown",
   "id": "f16f81d8",
   "metadata": {},
   "source": [
    "Perhatikan bahwa titik dua (:) setelah <expr> diperlukan. Beberapa bahasa pemrograman mengharuskan <expr> diapit tanda kurung, tetapi Python tidak."
   ]
  },
  {
   "cell_type": "code",
   "execution_count": 15,
   "id": "539fdf5c",
   "metadata": {},
   "outputs": [
    {
     "name": "stdout",
     "output_type": "stream",
     "text": [
      "yes\n",
      "yes\n",
      "yes\n"
     ]
    }
   ],
   "source": [
    "x = 0\n",
    "y = 5\n",
    "\n",
    "if x < y:                              # Truthy\n",
    "    print('yes')\n",
    "    \n",
    "if y < x:                              # Falsy\n",
    "    print('yes')\n",
    "\n",
    "if x:                                  # Falsy\n",
    "    print('yes')\n",
    "    \n",
    "if y:                                  # Truthy\n",
    "    print('yes')\n",
    "    \n",
    "if 'aul' in 'grault':                  # Truthy\n",
    "    print('yes')\n",
    "    \n",
    "if 'quux' in ['foo', 'bar', 'baz']:    # Truthy\n",
    "    print('yes')"
   ]
  },
  {
   "cell_type": "markdown",
   "id": "74f0fc87",
   "metadata": {},
   "source": [
    "## B. Grouping Statements: Identation and Blocks"
   ]
  },
  {
   "cell_type": "markdown",
   "id": "25f132e0",
   "metadata": {},
   "source": [
    "So far, so good.\n",
    "\n",
    "Tetapi katakanlah kalian ingin mengevaluasi suatu kondisi dan kemudian melakukan lebih dari satu hal jika itu benar:\n",
    "\n",
    "If the weather is nice, then I will:\n",
    "- Mow the lawn\n",
    "- Weed the garden\n",
    "- Take the dog for a walk\n",
    "\n",
    "(If the weather isn’t nice, then I won’t do any of these things.)\n",
    "\n",
    "Dalam semua contoh yang ditampilkan di atas, masing-masing jika <expr>: hanya diikuti oleh satu <statement>. Perlu ada cara untuk mengatakan \"Jika <expr> benar, lakukan semua hal berikut\".\n",
    "\n",
    "> Pendekatan yang biasa diambil oleh sebagian besar bahasa pemrograman adalah dengan mendefinisikan syntactic device yang mengelompokkan beberapa pernyataan menjadi satu pernyataan atau blok.\n",
    "\n",
    "    Sebuah blok dianggap secara sintaksis sebagai satu kesatuan. Ketika blok tersebut adalah target dari if, dan <expr> adalah benar, maka semua pernyataan di blok akan dieksekusi. Jika <expr> salah, maka tidak ada satupun yang dieksekusi.\n",
    "\n",
    "    Hampir semua bahasa pemrograman menyediakan kemampuan untuk mendefinisikan blocks, tetapi tidak semuanya menyediakannya dengan cara yang sama. Mari kita lihat bagaimana Python melakukannya."
   ]
  },
  {
   "cell_type": "markdown",
   "id": "6dc2d69e",
   "metadata": {},
   "source": [
    "### Python: It's All About the Identation"
   ]
  },
  {
   "cell_type": "markdown",
   "id": "ad7742a2",
   "metadata": {},
   "source": [
    "> Python mengikuti konvensi yang dikenal sebagai off-side rule, istilah yang diciptakan oleh ilmuwan komputer Inggris Peter J. Landin. (Istilah ini diambil dari offside dalam sepak bola.) Bahasa yang mengikuti off-side rule akan mendefinisikan blok dengan indentasi. Python adalah salah satu dari sekumpulan kecil bahasa off-side rule.\n",
    "\n",
    "    Indentasi digunakan untuk mendefinisikan pernyataan atau blok. Dalam program Python, pernyataan yang menjorok ke tingkat yang sama dianggap sebagai bagian dari blok yang sama.\n",
    "\n",
    "Jadi, pernyataan majemuk if dengan Python terlihat seperti ini:"
   ]
  },
  {
   "cell_type": "code",
   "execution_count": 16,
   "id": "2cde5c86",
   "metadata": {},
   "outputs": [],
   "source": [
    "# if <expr>:\n",
    "#    <statement>\n",
    "#    <statement>\n",
    "#    ...\n",
    "#    <statement>\n",
    "#<following_statement>"
   ]
  },
  {
   "cell_type": "markdown",
   "id": "a0b1b7f9",
   "metadata": {},
   "source": [
    "Di sini, semua pernyataan pada tingkat indentasi yang cocok (baris 2 hingga 5) dianggap sebagai bagian dari blok yang sama. Seluruh blok dijalankan jika <expr> benar, atau dilewati jika <expr> salah. Apa pun itu, eksekusi dilanjutkan dengan <following_statement> (baris 6) sesudahnya."
   ]
  },
  {
   "cell_type": "markdown",
   "id": "b519d7b1",
   "metadata": {},
   "source": [
    "Grouping statement \n",
    "\n",
    "![alt text](https://i.ibb.co/9WGscpd/Ifstatement.png \"Grouping statement\")"
   ]
  },
  {
   "cell_type": "markdown",
   "id": "8c38cd78",
   "metadata": {},
   "source": [
    "Perhatikan bahwa tidak ada token yang menunjukkan akhir blok. Sebaliknya, ujung blok ditunjukkan dengan garis yang indentasinya kurang dari garis blok itu sendiri."
   ]
  },
  {
   "cell_type": "code",
   "execution_count": 17,
   "id": "71d944f4",
   "metadata": {},
   "outputs": [
    {
     "name": "stdout",
     "output_type": "stream",
     "text": [
      "After conditional\n"
     ]
    }
   ],
   "source": [
    "if 'foo' in ['bar', 'baz', 'qux']:\n",
    "    print('Expression was true')\n",
    "    print('Executing statement in suite')\n",
    "    print('...')\n",
    "\n",
    "print('After conditional')"
   ]
  },
  {
   "cell_type": "markdown",
   "id": "c597296b",
   "metadata": {},
   "source": [
    "Empat pernyataan print () pada baris 2 hingga 5 menjorok ke tingkat yang sama satu sama lain. Mereka merupakan blok yang akan dieksekusi jika kondisinya benar. Tapi itu salah, jadi semua pernyataan di blok itu dilewati. Setelah akhir dari if statement telah tercapai (tidak peduli pernyataan dalam blok pada baris 2 sampai 5 dieksekusi atau tidak), eksekusi dilanjutkan ke pernyataan pertama yang memiliki tingkat indentasi yang lebih rendah: pernyataan print () pada baris 6.\n",
    "\n",
    "Blok dapat di nest hingga kedalaman berapapun. Setiap indentasi mendefinisikan blok baru, dan setiap outdent mengakhiri blok sebelumnya. Hasilnya, Struktur yang dihasilkan sangat jelas, konsisten, dan intuitif.\n",
    "\n",
    "Berikut ini skrip yang lebih rumit:"
   ]
  },
  {
   "cell_type": "code",
   "execution_count": 18,
   "id": "050fbe4b",
   "metadata": {},
   "outputs": [
    {
     "name": "stdout",
     "output_type": "stream",
     "text": [
      "Outer condition is true\n",
      "Between inner conditions\n",
      "Inner condition 2\n",
      "End of outer condition\n",
      "After outer condition\n"
     ]
    }
   ],
   "source": [
    "# Does line execute?                          Yes     No\n",
    "#                                             ---     --\n",
    "if 'foo' in ['foo', 'bar', 'baz']:         #   x\n",
    "    print('Outer condition is true')       #   x\n",
    "    \n",
    "    if 10 > 20:                            #   x\n",
    "        print('Inner condition 1')         #           x\n",
    "   \n",
    "    print('Between inner conditions')      #   x\n",
    "   \n",
    "    if 10 < 20:                            #   x\n",
    "        print('Inner condition 2')         #   x\n",
    "            \n",
    "    print('End of outer condition')        #   x\n",
    "print('After outer condition')             #   x"
   ]
  },
  {
   "cell_type": "markdown",
   "id": "b0ed4de2",
   "metadata": {},
   "source": [
    "## C. The else and elif Clauses"
   ]
  },
  {
   "cell_type": "markdown",
   "id": "080c5ef1",
   "metadata": {},
   "source": [
    "Sekarang kalian tahu cara menggunakan pernyataan if untuk mengeksekusi pernyataan tunggal atau blok dari beberapa statement. Saatnya mencari tahu apa lagi yang bisa kalian lakukan.\n",
    "\n",
    "Terkadang, kalian ingin mengevaluasi suatu kondisi dan mengambil satu jalur jika benar, tetapi menentukan jalur alternatif jika tidak benar. Ini dapat dilakukan dengan klausa else:"
   ]
  },
  {
   "cell_type": "code",
   "execution_count": 19,
   "id": "bb9a4ea1",
   "metadata": {},
   "outputs": [],
   "source": [
    "# if <expr>:\n",
    "#    <statement(s)>\n",
    "# else:\n",
    "#    <statement(s)>"
   ]
  },
  {
   "cell_type": "markdown",
   "id": "496e4735",
   "metadata": {},
   "source": [
    "Jika <expr> benar, rangkaian pertama dijalankan, dan rangkaian kedua dilewati. Jika salah, rangkaian pertama dilewati dan rangkaian kedua dijalankan. Begitupun sebaliknya, eksekusi kemudian dilanjutkan setelah rangkaian kedua. Kedua suite ditentukan oleh indentasi, seperti dijelaskan di atas.\n",
    "\n",
    "Dalam contoh ini, x kurang dari 50, jadi rangkaian pertama (baris 4 hingga 5) dieksekusi, dan rangkaian kedua (baris 7 hingga 8) dilewati:"
   ]
  },
  {
   "cell_type": "code",
   "execution_count": 20,
   "id": "4f1a7914",
   "metadata": {},
   "outputs": [
    {
     "name": "stdout",
     "output_type": "stream",
     "text": [
      "(first suite)\n",
      "x is small\n"
     ]
    }
   ],
   "source": [
    "x = 20\n",
    "\n",
    "if x < 50:\n",
    "    print('(first suite)')\n",
    "    print('x is small')\n",
    "else:\n",
    "    print('(second suite)')\n",
    "    print('x is large')"
   ]
  },
  {
   "cell_type": "markdown",
   "id": "368e1a58",
   "metadata": {},
   "source": [
    "Di sini, di sisi lain, x lebih besar dari 50, jadi rangkaian pertama dilewatkan, dan rangkaian kedua dieksekusi:"
   ]
  },
  {
   "cell_type": "code",
   "execution_count": 21,
   "id": "a82105f5",
   "metadata": {},
   "outputs": [
    {
     "name": "stdout",
     "output_type": "stream",
     "text": [
      "(second suite)\n",
      "x is large\n"
     ]
    }
   ],
   "source": [
    "x = 120\n",
    "\n",
    "if x < 50:\n",
    "    print('(first suite)')\n",
    "    print('x is small')\n",
    "else:\n",
    "    print('(second suite)')\n",
    "    print('x is large')"
   ]
  },
  {
   "cell_type": "code",
   "execution_count": 22,
   "id": "5d505395",
   "metadata": {},
   "outputs": [
    {
     "name": "stdout",
     "output_type": "stream",
     "text": [
      "uang tidak cukup\n"
     ]
    }
   ],
   "source": [
    "hargaBuku = 20000\n",
    "hargaMajalah = 5000\n",
    "uang = 2000\n",
    "\n",
    "if uang > hargaBuku:\n",
    "    print(\"beli buku\")\n",
    "else:\n",
    "    print(\"uang tidak cukup\")"
   ]
  },
  {
   "cell_type": "markdown",
   "id": "6d7d915e",
   "metadata": {},
   "source": [
    "Ada juga sintaks untuk eksekusi percabangan berdasarkan beberapa alternatif. Untuk ini, gunakan satu atau lebih klausa elif (kependekan dari else if). Python mengevaluasi setiap <expr> secara bergantian dan menjalankan suite yang sesuai dengan yang pertama benar. Jika tidak ada ekspresi yang benar, dan klausa else ada disana, rangkaiannya akan dieksekusi:"
   ]
  },
  {
   "cell_type": "code",
   "execution_count": 23,
   "id": "a1809d15",
   "metadata": {},
   "outputs": [],
   "source": [
    "# if <expr>:\n",
    "#   <statement(s)>\n",
    "# elif <expr>:\n",
    "#    <statement(s)>\n",
    "# elif <expr>:\n",
    "#    <statement(s)>\n",
    "#    ...\n",
    "# else:\n",
    "#   <statement(s)>"
   ]
  },
  {
   "cell_type": "markdown",
   "id": "dad88736",
   "metadata": {},
   "source": [
    "Jumlah klausa elif dapat ditentukan berapapun. Klausa else bersifat opsional. Jika ada, hanya boleh ada satu, dan harus ditentukan terakhir:"
   ]
  },
  {
   "cell_type": "code",
   "execution_count": 24,
   "id": "a1f80c9b",
   "metadata": {},
   "outputs": [
    {
     "name": "stdout",
     "output_type": "stream",
     "text": [
      "uang tidak cukup\n"
     ]
    }
   ],
   "source": [
    "hargaBuku = 20000\n",
    "hargaMajalah = 5000\n",
    "uang = 2000\n",
    "\n",
    "if uang > hargaBuku:\n",
    "    print(\"beli buku\")\n",
    "elif uang > hargaMajalah:\n",
    "    print(\"beli majalah\")\n",
    "else:\n",
    "    print(\"uang tidak cukup\")"
   ]
  },
  {
   "cell_type": "code",
   "execution_count": 25,
   "id": "ef053a5d",
   "metadata": {},
   "outputs": [
    {
     "name": "stdout",
     "output_type": "stream",
     "text": [
      "Hello Hacktiv8\n"
     ]
    }
   ],
   "source": [
    "name = 'Hacktiv8'\n",
    "if name == 'Fred':\n",
    "    print('Hello Fred')\n",
    "elif name == 'Xander':\n",
    "    print('Hello Xander')\n",
    "elif name == 'Hacktiv8':\n",
    "    print('Hello Hacktiv8')\n",
    "elif name == 'Arnold':\n",
    "    print('Hello Arnold')\n",
    "else:\n",
    "    print(\"I don't know who you are!\")"
   ]
  },
  {
   "cell_type": "markdown",
   "id": "87c24210",
   "metadata": {},
   "source": [
    "Pada dasarnya, salah satu blok kode yang ditentukan akan dieksekusi. Jika klausa else tidak disertakan, dan semua kondisinya salah, maka tidak ada blok yang akan dieksekusi.\n",
    "\n",
    "Pernyataan if dengan klausa elif menggunakan short-circuit evaluation, serupa dengan apa yang kalian lihat dengan operator and dan or. Setelah salah satu ekspresi ditemukan benar dan bloknya dijalankan, tidak ada ekspresi yang tersisa yang diuji. Ini ditunjukkan di bawah ini:"
   ]
  },
  {
   "cell_type": "code",
   "execution_count": 26,
   "id": "4e0152ea",
   "metadata": {},
   "outputs": [
    {
     "name": "stdout",
     "output_type": "stream",
     "text": [
      "foo\n"
     ]
    }
   ],
   "source": [
    "if 'a' in 'bar':\n",
    "    print('foo')\n",
    "elif 1/0:\n",
    "    print(\"This won't happen\")\n",
    "elif var:\n",
    "    print(\"This won't either\")"
   ]
  },
  {
   "cell_type": "markdown",
   "id": "29f45f31",
   "metadata": {},
   "source": [
    "## D. One-Line if Statements"
   ]
  },
  {
   "cell_type": "markdown",
   "id": "0df8730c",
   "metadata": {},
   "source": [
    "Biasanya <expr> ditulis dalam satu baris dan <statement> diindentasi pada baris berikut seperti ini:"
   ]
  },
  {
   "cell_type": "code",
   "execution_count": 27,
   "id": "b983da65",
   "metadata": {},
   "outputs": [],
   "source": [
    "# if <expr>:\n",
    "#    <statement>"
   ]
  },
  {
   "cell_type": "markdown",
   "id": "0f160d88",
   "metadata": {},
   "source": [
    "Tetapi diperbolehkan untuk menulis seluruh pernyataan if dalam satu baris. Berikut ini secara fungsional yang setara dengan contoh di atas:\n",
    "\n",
    "     if <expr>: <statement>\n",
    "\n",
    "Bahkan bisa ada lebih dari satu <statement> pada baris yang sama, dipisahkan oleh titik koma:\n",
    "\n",
    "     if <expr>: <statement_1>; <statement_2>; ...; <statement_n>\n",
    "\n",
    "Tapi apa artinya? Ada dua kemungkinan interpretasi:\n",
    "\n",
    "     If <expr> is true, execute <statement_1>.\n",
    "\n",
    "Then, execute <statement_2> ... <statement_n> unconditionally, irrespective of whether <expr> is true or not.\n",
    "\n",
    "     If <expr> is true, execute all of <statement_1> ... <statement_n>. Otherwise, don’t execute any of them.\n",
    "\n",
    "Python mengambil interpretasi yang terakhir. Tanda titik koma yang memisahkan <statements> memiliki prioritas lebih tinggi daripada titik dua setelah <expr> —dalam bahasa komputer, titik koma dikatakan mengikat lebih erat daripada titik dua. Dengan demikian, <statements> diperlakukan sebagai suite, dan semuanya dijalankan, atau tidak ada yang:"
   ]
  },
  {
   "cell_type": "code",
   "execution_count": 28,
   "id": "1cd0df29",
   "metadata": {},
   "outputs": [
    {
     "name": "stdout",
     "output_type": "stream",
     "text": [
      "1\n",
      "2\n",
      "3\n"
     ]
    }
   ],
   "source": [
    "if 'f' in 'foo': print('1'); print('2'); print('3')"
   ]
  },
  {
   "cell_type": "code",
   "execution_count": 29,
   "id": "c2d8b4b5",
   "metadata": {},
   "outputs": [],
   "source": [
    "if 'z' in 'foo': print('1'); print('2'); print('3')"
   ]
  },
  {
   "cell_type": "markdown",
   "id": "ebff4bb2",
   "metadata": {},
   "source": [
    "Multiple statements dapat ditentukan pada baris yang sama sebagai elif atau else:"
   ]
  },
  {
   "cell_type": "code",
   "execution_count": 30,
   "id": "472f53a0",
   "metadata": {},
   "outputs": [
    {
     "name": "stdout",
     "output_type": "stream",
     "text": [
      "qux\n",
      "quux\n"
     ]
    }
   ],
   "source": [
    "x = 2\n",
    "\n",
    "if x == 1: print('foo'); print('bar'); print('baz')\n",
    "elif x == 2: print('qux'); print('quux')\n",
    "else: print('corge'); print('grault')"
   ]
  },
  {
   "cell_type": "code",
   "execution_count": 31,
   "id": "06795ddb",
   "metadata": {},
   "outputs": [
    {
     "name": "stdout",
     "output_type": "stream",
     "text": [
      "corge\n",
      "grault\n"
     ]
    }
   ],
   "source": [
    "x = 3\n",
    "\n",
    "if x == 1: print('foo'); print('bar'); print('baz')\n",
    "elif x == 2: print('qux'); print('quux')\n",
    "else: print('corge'); print('grault')"
   ]
  },
  {
   "cell_type": "markdown",
   "id": "457e1e02",
   "metadata": {},
   "source": [
    "Meskipun semua ini berfungsi, dan interpreter mengizinkannya, umumnya tidak disarankan karena menyebabkan readability yang buruk, terutama untuk pernyataan if yang kompleks. PEP 8 secara khusus merekomendasikan untuk tidak melakukannya.\n",
    "\n",
    "Seperti biasa, ini masalah selera. Kebanyakan orang akan menganggap hal dibawah ini lebih menarik secara visual dan lebih mudah dipahami pada pandangan pertama daripada contoh di atas:"
   ]
  },
  {
   "cell_type": "code",
   "execution_count": 32,
   "id": "c60932ca",
   "metadata": {},
   "outputs": [
    {
     "name": "stdout",
     "output_type": "stream",
     "text": [
      "corge\n",
      "grault\n"
     ]
    }
   ],
   "source": [
    "x = 3\n",
    "if x == 1:\n",
    "    print('foo')\n",
    "    print('bar')\n",
    "    print('baz')\n",
    "elif x == 2:\n",
    "    print('qux')\n",
    "    print('quux')\n",
    "else:\n",
    "    print('corge')\n",
    "    print('grault')"
   ]
  },
  {
   "cell_type": "markdown",
   "id": "d98a84f2",
   "metadata": {},
   "source": [
    "## E. Conditional Expressions (Python’s Ternary Operator)"
   ]
  },
  {
   "cell_type": "markdown",
   "id": "bebb2ad4",
   "metadata": {},
   "source": [
    "Python mendukung decision-making tambahan yang disebut conditional expression. (Juga disebut conditional operator atau ternary operator di berbagai Python documentation.) Conditional expressions diusulkan untuk ditambahkan ke bahasa di PEP 308 dan diberi lampu hijau oleh Guido pada tahun 2005.\n",
    "\n",
    "Dalam bentuknya yang paling sederhana, sintaks dari conditional expression adalah sebagai berikut:\n",
    "\n",
    "    <expr1> if <conditional_expr> else <expr2>\n",
    "\n",
    "Ini berbeda dengan pernyataan if yang tercantum di atas karena ini bukan struktur kontrol yang mengarahkan aliran eksekusi program. Ini bertindak lebih seperti operator yang mendefinisikan ekspresi.\n",
    "\n",
    "    Dalam contoh di atas, <conditional_expr> dievaluasi terlebih dahulu. Jika benar, ekspresi mengevaluasi ke <expr1>. Jika salah, ekspresi mengevaluasi ke <expr2>.\n",
    "\n",
    "Perhatikan urutan yang tidak jelas: ekspresi tengah dievaluasi terlebih dahulu, dan berdasarkan hasil itu, salah satu ekspresi di ujung dikembalikan. Berikut beberapa contoh yang diharapkan dapat membantu memperjelas:"
   ]
  },
  {
   "cell_type": "code",
   "execution_count": 33,
   "id": "f40f1d9a",
   "metadata": {},
   "outputs": [
    {
     "name": "stdout",
     "output_type": "stream",
     "text": [
      "Let's go to the beach\n"
     ]
    }
   ],
   "source": [
    "raining = False\n",
    "print(\"Let's go to the\", 'beach' if not raining else 'library')"
   ]
  },
  {
   "cell_type": "code",
   "execution_count": 34,
   "id": "a348613e",
   "metadata": {},
   "outputs": [
    {
     "name": "stdout",
     "output_type": "stream",
     "text": [
      "Let's go to the library\n"
     ]
    }
   ],
   "source": [
    "raining = True\n",
    "print(\"Let's go to the\", 'beach' if not raining else 'library')"
   ]
  },
  {
   "cell_type": "code",
   "execution_count": 35,
   "id": "03cfed6a",
   "metadata": {},
   "outputs": [
    {
     "data": {
      "text/plain": [
       "'teen'"
      ]
     },
     "execution_count": 35,
     "metadata": {},
     "output_type": "execute_result"
    }
   ],
   "source": [
    "age = 12\n",
    "s = 'teen' if age < 21 else 'adult'\n",
    "s"
   ]
  },
  {
   "cell_type": "code",
   "execution_count": 36,
   "id": "b3c33855",
   "metadata": {},
   "outputs": [
    {
     "data": {
      "text/plain": [
       "'no'"
      ]
     },
     "execution_count": 36,
     "metadata": {},
     "output_type": "execute_result"
    }
   ],
   "source": [
    "'yes' if ('qux' in['foo', 'bar', 'baz']) else 'no'"
   ]
  },
  {
   "cell_type": "code",
   "execution_count": 37,
   "id": "7a0b57ee",
   "metadata": {},
   "outputs": [],
   "source": [
    "# if a > b:\n",
    "#    m = a\n",
    "# else:\n",
    "#    m = b"
   ]
  },
  {
   "cell_type": "markdown",
   "id": "0c74f8ff",
   "metadata": {},
   "source": [
    "Tapi conditional expression lebih pendek dan bisa dibilang lebih mudah dibaca juga:\n",
    "\n",
    "    m = a if a > b else b\n",
    "\n",
    "Ingat bahwa conditional expression berperilaku seperti expression secara syntax. Ini dapat digunakan sebagai bagian dari expression yang lebih panjang. conditional expression memiliki prioritas yang lebih rendah daripada hampir semua operator lain, jadi diperlukan tanda kurung untuk mengelompokkannya sendiri.\n",
    "\n",
    "    In the expression <expr1> if <conditional_expr> else <expr2>:\n",
    "\n",
    "    If <conditional_expr> is true, <expr1> is returned and <expr2> is not evaluated.\n",
    "\n",
    "    If <conditional_expr> is false, <expr2> is returned and <expr1> is not evaluated."
   ]
  },
  {
   "cell_type": "markdown",
   "id": "c16fe48f",
   "metadata": {},
   "source": [
    "## F. The Python pass Statement"
   ]
  },
  {
   "cell_type": "markdown",
   "id": "e9fdf79b",
   "metadata": {},
   "source": [
    "Terkadang, kalian mungkin menemukan bahwa kalianingin menulis apa yang disebut code stub: placeholder tempat kalian pada akhirnya akan meletakkan blok kode yang belum kalian terapkan.\n",
    "\n",
    "Pertimbangkan skrip ini foo.py:"
   ]
  },
  {
   "cell_type": "code",
   "execution_count": 38,
   "id": "4db46d2a",
   "metadata": {},
   "outputs": [],
   "source": [
    "# If True:\n",
    "#    print('foo')"
   ]
  },
  {
   "cell_type": "markdown",
   "id": "97e0d781",
   "metadata": {},
   "source": [
    "Jika kalian mencoba menjalankan foo.py, Kalian akan mendapatkan ini:"
   ]
  },
  {
   "cell_type": "code",
   "execution_count": 39,
   "id": "2ee38963",
   "metadata": {},
   "outputs": [],
   "source": [
    "# File \"foo.py\", line 3\n",
    "#     print('foo')\n",
    "#         ^\n",
    "# IndentationError: expected an indented block"
   ]
  },
  {
   "cell_type": "markdown",
   "id": "b279b5f4",
   "metadata": {},
   "source": [
    "Python pass statement memecahkan masalah ini. Dia tidak mengubah perilaku program sama sekali. Pass digunakan sebagai placeholder untuk membuat interpreter berjalan dalam situasi apa pun di mana pernyataan diperlukan secara sintaksis, tetapi kalian tidak benar-benar ingin melakukan apa pun:"
   ]
  },
  {
   "cell_type": "code",
   "execution_count": 40,
   "id": "a37485d4",
   "metadata": {},
   "outputs": [
    {
     "name": "stdout",
     "output_type": "stream",
     "text": [
      "foo\n"
     ]
    }
   ],
   "source": [
    "if True:\n",
    "    pass\n",
    "\n",
    "print('foo')"
   ]
  },
  {
   "cell_type": "markdown",
   "id": "b999e04e",
   "metadata": {},
   "source": [
    "Sekarang file berjalan tanpa error."
   ]
  },
  {
   "cell_type": "code",
   "execution_count": 41,
   "id": "d5cf537f",
   "metadata": {},
   "outputs": [
    {
     "name": "stdout",
     "output_type": "stream",
     "text": [
      "foo\n"
     ]
    }
   ],
   "source": [
    "if True:\n",
    "    pass\n",
    "\n",
    "print('foo')"
   ]
  },
  {
   "cell_type": "markdown",
   "id": "fd260ae3",
   "metadata": {},
   "source": [
    "Iteration artinya mengeksekusi blok kode yang sama berulang kali, berpotensi berkali-kali. Struktur pemrograman yang mengimplementasikan iterasi disebut loop.\n",
    "\n",
    "Dalam pemrograman, ada dua jenis iterasi, indefinite dan definite:\n",
    "\n",
    "- Dengan indefinite iteration, berapa kali loop dijalankan tidak ditentukan secara eksplisit sebelumnya. Sebaliknya, blok yang ditunjuk dijalankan berulang kali selama beberapa kondisi terpenuhi.\n",
    "- Dengan definite iteration, berapa kali blok yang ditunjuk akan dieksekusi ditentukan secara eksplisit pada saat perulangan dimulai."
   ]
  },
  {
   "cell_type": "markdown",
   "id": "fd0ce04b",
   "metadata": {},
   "source": [
    "## G. Python \"while\" Loops"
   ]
  },
  {
   "cell_type": "markdown",
   "id": "77562832",
   "metadata": {},
   "source": [
    "Mari kita lihat bagaimana while Python digunakan untuk membuat loop. Kita akan mulai dengan sederhana dan kembangkan sambil jalan.\n",
    "\n",
    "Format while loop ditampilkan di bawah ini:"
   ]
  },
  {
   "cell_type": "code",
   "execution_count": 42,
   "id": "0f2f4a86",
   "metadata": {},
   "outputs": [],
   "source": [
    "# while <expr>:\n",
    "#    <statement(s)>"
   ]
  },
  {
   "cell_type": "markdown",
   "id": "bdd91526",
   "metadata": {},
   "source": [
    "<statement(s)> mewakili blok yang akan dieksekusi berulang kali, sering disebut sebagai badan dari perulangan. <statement(s)> dilambangkan dengan indentasi, seperti dalam pernyataan if.\n",
    "\n",
    "Ekspresi pengontrol, <expr>, biasanya melibatkan satu atau lebih variabel yang diinisialisasi sebelum memulai pengulangan dan kemudian dimodifikasi di suatu tempat di badan pengulangan.\n",
    "\n",
    "Ketika loop dijalankan, <expr> pertama kali akan dievaluasi dalam konteks Boolean. Jika benar, badan perulangan akan dieksekusi. Kemudian <expr> dicek lagi, dan jika masih benar, badan akan dieksekusi lagi. Ini berlanjut sampai <expr> menjadi false, di mana eksekusi program akan berlanjut ke pernyataan pertama di luar badan perulangan.\n",
    "\n",
    "Consider this loop:"
   ]
  },
  {
   "cell_type": "code",
   "execution_count": 43,
   "id": "1d47e6f6",
   "metadata": {},
   "outputs": [
    {
     "name": "stdout",
     "output_type": "stream",
     "text": [
      "4\n",
      "3\n",
      "2\n",
      "1\n",
      "0\n"
     ]
    }
   ],
   "source": [
    "n = 5\n",
    "while n > 0:\n",
    "    n -= 1\n",
    "    print(n)"
   ]
  },
  {
   "cell_type": "code",
   "execution_count": 44,
   "id": "fc40dbdc",
   "metadata": {},
   "outputs": [
    {
     "name": "stdout",
     "output_type": "stream",
     "text": [
      "1\n",
      "2\n",
      "3\n",
      "4\n",
      "5\n"
     ]
    }
   ],
   "source": [
    "i = 1\n",
    "while i < 6:\n",
    "    print(i)\n",
    "    i += 1"
   ]
  },
  {
   "cell_type": "code",
   "execution_count": 45,
   "id": "b9ca7fb9",
   "metadata": {},
   "outputs": [
    {
     "name": "stdout",
     "output_type": "stream",
     "text": [
      "6\n"
     ]
    }
   ],
   "source": [
    "print(i)"
   ]
  },
  {
   "cell_type": "markdown",
   "id": "af2060a7",
   "metadata": {},
   "source": [
    "Inilah yang terjadi dalam contoh diatas:\n",
    "\n",
    "- n adalah 5. Ekspresi dalam while header pada baris 2 adalah n > 0, which is benar, sehingga badan perulangan dieksekusi. Di dalam badan loop pada baris 3, n dikurangi 1 menjadi 4, dan kemudian dicetak ke layar.\n",
    "\n",
    "- Ketika badan loop telah selesai, eksekusi program kembali ke atas loop pada baris 2, dan ekspresi dievaluasi lagi. ekspresinya masih benar, jadi badan dieksekusi lagi, dan 3 dicetak.\n",
    "\n",
    "- Looping berlanjut sampai n menjadi 0. Pada titik itu, ketika ekspresi diuji, dan salah, loop berhenti. Eksekusi akan dilanjutkan pada pernyataan pertama setelah badan loop, tetapi tidak ada satu pun dalam kasus ini."
   ]
  },
  {
   "cell_type": "markdown",
   "id": "8d203087",
   "metadata": {},
   "source": [
    "## H. The Python break and continue Statements"
   ]
  },
  {
   "cell_type": "markdown",
   "id": "4f3572f5",
   "metadata": {},
   "source": [
    "Dalam setiap contoh yang telah kalian lihat sejauh ini, seluruh isi while loop dijalankan pada setiap iterasi. Python menyediakan dua keywords yang menghentikan perulangan perulangan sebelum waktunya:\n",
    "\n",
    "- Python break statement segera menghentikan perulangan seluruhnya. Eksekusi program dilanjutkan ke pernyataan pertama setelah badan loop.\n",
    "\n",
    "- Python continue statement segera menghentikan iterasi loop saat dijalankan. Eksekusi melompat ke atas loop, dan controlling expression dievaluasi ulang untuk menentukan apakah loop akan dieksekusi lagi atau dihentikan.\n",
    "\n",
    "Perbedaan antara break dan continue ditunjukkan pada diagram berikut:"
   ]
  },
  {
   "cell_type": "markdown",
   "id": "715f88dd",
   "metadata": {},
   "source": [
    "break and continue statement \n",
    "\n",
    "![alt text](https://i.ibb.co/QFLdx58/breakcontinue.png \"Grouping statement\")"
   ]
  },
  {
   "cell_type": "code",
   "execution_count": 79,
   "id": "8feefff1",
   "metadata": {},
   "outputs": [
    {
     "name": "stdout",
     "output_type": "stream",
     "text": [
      "4\n",
      "3\n",
      "Loop ended.\n"
     ]
    }
   ],
   "source": [
    "n = 5\n",
    "while n > 0:\n",
    "    n -= 1\n",
    "    if n == 2:\n",
    "        break # Break Statement\n",
    "    print(n)\n",
    "print('Loop ended.')"
   ]
  },
  {
   "cell_type": "code",
   "execution_count": 80,
   "id": "bdb23379",
   "metadata": {},
   "outputs": [
    {
     "name": "stdout",
     "output_type": "stream",
     "text": [
      "4\n",
      "3\n",
      "1\n",
      "0\n",
      "Loop ended.\n"
     ]
    }
   ],
   "source": [
    "n = 5\n",
    "while n > 0:\n",
    "    n -= 1\n",
    "    if n == 2:\n",
    "        continue\n",
    "    print(n)\n",
    "print('Loop ended.')"
   ]
  },
  {
   "cell_type": "markdown",
   "id": "893d8cbc",
   "metadata": {},
   "source": [
    "while <expr>\n",
    "    <statement(s)>\n",
    "else:\n",
    "    <additional_statement(s)>"
   ]
  },
  {
   "cell_type": "code",
   "execution_count": null,
   "id": "b8ac9f58",
   "metadata": {},
   "outputs": [
    {
     "name": "stdout",
     "output_type": "stream",
     "text": [
      "4\n",
      "3\n",
      "2\n",
      "1\n",
      "0\n",
      "Loop done.\n"
     ]
    }
   ],
   "source": [
    "n = 5\n",
    "while n > 0:\n",
    "    n -= 1\n",
    "    print(n)\n",
    "else:\n",
    "    print('Loop done.')"
   ]
  },
  {
   "cell_type": "code",
   "execution_count": null,
   "id": "e9783764",
   "metadata": {},
   "outputs": [
    {
     "name": "stdout",
     "output_type": "stream",
     "text": [
      "4\n",
      "3\n",
      "2\n"
     ]
    }
   ],
   "source": [
    "n = 5\n",
    "while n > 0:\n",
    "    n -= 1\n",
    "    print(n)\n",
    "    if n == 2:\n",
    "        break\n",
    "else:\n",
    "    print('Loop done.')"
   ]
  },
  {
   "cell_type": "code",
   "execution_count": null,
   "id": "e2f6c9c2",
   "metadata": {},
   "outputs": [],
   "source": [
    "while True:\n",
    "    print('foo')"
   ]
  },
  {
   "cell_type": "code",
   "execution_count": null,
   "id": "b228bfbf",
   "metadata": {},
   "outputs": [
    {
     "ename": "NameError",
     "evalue": "name 'age' is not defined",
     "output_type": "error",
     "traceback": [
      "\u001b[1;31m---------------------------------------------------------------------------\u001b[0m",
      "\u001b[1;31mNameError\u001b[0m                                 Traceback (most recent call last)",
      "Input \u001b[1;32mIn [4]\u001b[0m, in \u001b[0;36m<cell line: 1>\u001b[1;34m()\u001b[0m\n\u001b[1;32m----> 1\u001b[0m \u001b[38;5;28;01mif\u001b[39;00m \u001b[43mage\u001b[49m \u001b[38;5;241m<\u001b[39m \u001b[38;5;241m18\u001b[39m:\n\u001b[0;32m      2\u001b[0m     \u001b[38;5;28;01mif\u001b[39;00m gender \u001b[38;5;241m==\u001b[39m \u001b[38;5;124m'\u001b[39m\u001b[38;5;124mM\u001b[39m\u001b[38;5;124m'\u001b[39m:\n\u001b[0;32m      3\u001b[0m         \u001b[38;5;28mprint\u001b[39m(\u001b[38;5;124m'\u001b[39m\u001b[38;5;124mson\u001b[39m\u001b[38;5;124m'\u001b[39m)\n",
      "\u001b[1;31mNameError\u001b[0m: name 'age' is not defined"
     ]
    }
   ],
   "source": [
    "if age < 18:\n",
    "    if gender == 'M':\n",
    "        print('son')\n",
    "    else:\n",
    "        print('daughter')\n",
    "elif age >= 18 and age < 65:\n",
    "    if gender == 'M':\n",
    "        print('father')\n",
    "    else:\n",
    "        print('mother')\n",
    "else:\n",
    "    if gender == 'M':\n",
    "        print('grandfather')\n",
    "    else:\n",
    "        print('grandmother')"
   ]
  },
  {
   "cell_type": "code",
   "execution_count": null,
   "id": "04e31350",
   "metadata": {},
   "outputs": [
    {
     "name": "stdout",
     "output_type": "stream",
     "text": [
      "foo\n",
      "> baz\n",
      "> qux\n",
      "bar\n",
      "> baz\n",
      "> qux\n"
     ]
    }
   ],
   "source": [
    "a = ['foo', 'bar']\n",
    "\n",
    "while len(a):\n",
    "    print(a.pop(0))\n",
    "    \n",
    "    b = ['baz', 'qux']\n",
    "    \n",
    "    while len(b):\n",
    "        print('>', b.pop(0))"
   ]
  },
  {
   "cell_type": "code",
   "execution_count": null,
   "id": "5439ea93",
   "metadata": {},
   "outputs": [],
   "source": [
    "while <expr1>:\n",
    "    statement\n",
    "    statement\n",
    "    \n",
    "    while <expr2>:\n",
    "        statement\n",
    "        statement\n",
    "        break # Applies to while : loop\n",
    "        \n",
    "    break # Applies to while : loop"
   ]
  },
  {
   "cell_type": "code",
   "execution_count": null,
   "id": "113481a9",
   "metadata": {},
   "outputs": [],
   "source": [
    "if <expr>:\n",
    "    statement\n",
    "    while <expr>:\n",
    "        statement\n",
    "        statement\n",
    "else:\n",
    "    while <expr>:\n",
    "        statement\n",
    "        statement\n",
    "    statement\n",
    "while <expr>:\n",
    "    if <expr>:\n",
    "        statement\n",
    "    elif <expr>:\n",
    "        statement\n",
    "    else:\n",
    "        statement\n",
    "        \n",
    "    if <expr>:\n",
    "        statement"
   ]
  },
  {
   "cell_type": "code",
   "execution_count": null,
   "id": "dbbbc60a",
   "metadata": {},
   "outputs": [
    {
     "name": "stdout",
     "output_type": "stream",
     "text": [
      "4\n",
      "3\n",
      "2\n",
      "1\n",
      "0\n"
     ]
    }
   ],
   "source": [
    "n = 5\n",
    "while n > 0: n -= 1; print(n)"
   ]
  },
  {
   "cell_type": "code",
   "execution_count": null,
   "id": "795926ba",
   "metadata": {},
   "outputs": [
    {
     "ename": "SyntaxError",
     "evalue": "invalid syntax (2673917639.py, line 1)",
     "output_type": "error",
     "traceback": [
      "\u001b[1;36m  Input \u001b[1;32mIn [7]\u001b[1;36m\u001b[0m\n\u001b[1;33m    for i = 1 to 10\u001b[0m\n\u001b[1;37m          ^\u001b[0m\n\u001b[1;31mSyntaxError\u001b[0m\u001b[1;31m:\u001b[0m invalid syntax\n"
     ]
    }
   ],
   "source": [
    "for i = 1 to 10\n",
    "    <loop body>"
   ]
  },
  {
   "cell_type": "code",
   "execution_count": null,
   "id": "bbd21a8e",
   "metadata": {},
   "outputs": [
    {
     "ename": "SyntaxError",
     "evalue": "invalid syntax (475392013.py, line 1)",
     "output_type": "error",
     "traceback": [
      "\u001b[1;36m  Input \u001b[1;32mIn [9]\u001b[1;36m\u001b[0m\n\u001b[1;33m    for (i = 1; i <= 10; i++)\u001b[0m\n\u001b[1;37m           ^\u001b[0m\n\u001b[1;31mSyntaxError\u001b[0m\u001b[1;31m:\u001b[0m invalid syntax\n"
     ]
    }
   ],
   "source": [
    "for (i = 1; i <= 10; i++)\n",
    "    <loop body>"
   ]
  },
  {
   "cell_type": "code",
   "execution_count": null,
   "id": "8091dcf6",
   "metadata": {},
   "outputs": [],
   "source": [
    "for i in <collection>\n",
    "    <loop body>"
   ]
  },
  {
   "cell_type": "code",
   "execution_count": null,
   "id": "26abd650",
   "metadata": {},
   "outputs": [],
   "source": [
    "for <var> in <iterable>:\n",
    "    <statement(s)>"
   ]
  },
  {
   "cell_type": "code",
   "execution_count": null,
   "id": "375d063a",
   "metadata": {},
   "outputs": [
    {
     "name": "stdout",
     "output_type": "stream",
     "text": [
      "foo\n",
      "bar\n",
      "baz\n"
     ]
    }
   ],
   "source": [
    "a = ['foo', 'bar', 'baz']\n",
    "for i in a:\n",
    "    print(i)"
   ]
  },
  {
   "cell_type": "code",
   "execution_count": null,
   "id": "4f61e322",
   "metadata": {},
   "outputs": [
    {
     "name": "stdout",
     "output_type": "stream",
     "text": [
      "foo\n",
      "bar\n",
      "baz\n"
     ]
    }
   ],
   "source": [
    "d = {'foo': 1, 'bar': 2, 'baz': 3}\n",
    "for k in d:\n",
    "    print(k)"
   ]
  },
  {
   "cell_type": "code",
   "execution_count": null,
   "id": "cf78bbec",
   "metadata": {},
   "outputs": [
    {
     "name": "stdout",
     "output_type": "stream",
     "text": [
      "1\n",
      "2\n",
      "3\n"
     ]
    }
   ],
   "source": [
    "for k in d:\n",
    "    print(d[k])"
   ]
  },
  {
   "cell_type": "code",
   "execution_count": null,
   "id": "2f65749e",
   "metadata": {},
   "outputs": [
    {
     "name": "stdout",
     "output_type": "stream",
     "text": [
      "1\n",
      "2\n",
      "3\n"
     ]
    }
   ],
   "source": [
    "for k in d.values():\n",
    "    print(k)"
   ]
  },
  {
   "cell_type": "code",
   "execution_count": null,
   "id": "0f06372f",
   "metadata": {
    "scrolled": true
   },
   "outputs": [
    {
     "name": "stdout",
     "output_type": "stream",
     "text": [
      "foo : 1\n",
      "bar : 2\n",
      "baz : 3\n"
     ]
    }
   ],
   "source": [
    "for k, v in d.items():\n",
    "    print(k, \":\", v)"
   ]
  },
  {
   "cell_type": "code",
   "execution_count": null,
   "id": "312a7836",
   "metadata": {},
   "outputs": [
    {
     "name": "stdout",
     "output_type": "stream",
     "text": [
      "foo\n",
      "bar\n",
      "baz\n"
     ]
    }
   ],
   "source": [
    "d = {'foo': 1, 'bar': 2, 'baz': 3}\n",
    "for k in d:\n",
    "    print(k)"
   ]
  },
  {
   "cell_type": "code",
   "execution_count": null,
   "id": "d6e61990",
   "metadata": {},
   "outputs": [
    {
     "name": "stdout",
     "output_type": "stream",
     "text": [
      "1\n",
      "2\n",
      "3\n"
     ]
    }
   ],
   "source": [
    "for k in d:\n",
    "    print(d[k])"
   ]
  },
  {
   "cell_type": "code",
   "execution_count": null,
   "id": "3bca10bf",
   "metadata": {},
   "outputs": [
    {
     "name": "stdout",
     "output_type": "stream",
     "text": [
      "1\n",
      "2\n",
      "3\n"
     ]
    }
   ],
   "source": [
    "for v in d.values():\n",
    "    print(v)"
   ]
  },
  {
   "cell_type": "code",
   "execution_count": null,
   "id": "10b45303",
   "metadata": {},
   "outputs": [
    {
     "name": "stdout",
     "output_type": "stream",
     "text": [
      "0\n",
      "1\n",
      "2\n",
      "3\n",
      "4\n"
     ]
    }
   ],
   "source": [
    "for n in (0, 1, 2, 3, 4):\n",
    "    print(n)"
   ]
  },
  {
   "cell_type": "code",
   "execution_count": null,
   "id": "23e6bec8",
   "metadata": {},
   "outputs": [],
   "source": [
    "x = range(5)"
   ]
  },
  {
   "cell_type": "code",
   "execution_count": null,
   "id": "69fcf21a",
   "metadata": {},
   "outputs": [
    {
     "name": "stdout",
     "output_type": "stream",
     "text": [
      "0\n",
      "1\n",
      "2\n",
      "3\n",
      "4\n"
     ]
    }
   ],
   "source": [
    "for n in x:\n",
    "    print(n)"
   ]
  },
  {
   "cell_type": "code",
   "execution_count": null,
   "id": "83ed69b8",
   "metadata": {},
   "outputs": [
    {
     "name": "stdout",
     "output_type": "stream",
     "text": [
      "foo\n"
     ]
    }
   ],
   "source": [
    "for i in ['foo', 'bar', 'baz', 'qux']:\n",
    "    if 'b' in i:\n",
    "        break\n",
    "    print(i)"
   ]
  },
  {
   "cell_type": "code",
   "execution_count": null,
   "id": "e8e97df3",
   "metadata": {},
   "outputs": [
    {
     "name": "stdout",
     "output_type": "stream",
     "text": [
      "foo\n",
      "qux\n"
     ]
    }
   ],
   "source": [
    "for i in ['foo', 'bar', 'baz', 'qux']:\n",
    "    if 'b' in i:\n",
    "        continue\n",
    "    print(i)"
   ]
  },
  {
   "cell_type": "code",
   "execution_count": null,
   "id": "46e89e32",
   "metadata": {},
   "outputs": [
    {
     "name": "stdout",
     "output_type": "stream",
     "text": [
      "foo\n",
      "bar\n",
      "baz\n",
      "qux\n",
      "Done.\n"
     ]
    }
   ],
   "source": [
    "for i in ['foo', 'bar', 'baz', 'qux']:\n",
    "    print(i)\n",
    "else:\n",
    "    print('Done.') # Will execute"
   ]
  },
  {
   "cell_type": "code",
   "execution_count": null,
   "id": "ba2b710e",
   "metadata": {},
   "outputs": [
    {
     "name": "stdout",
     "output_type": "stream",
     "text": [
      "foo\n"
     ]
    }
   ],
   "source": [
    "for i in ['foo', 'bar', 'baz', 'qux']:\n",
    "    if i == 'bar':\n",
    "        break\n",
    "    print(i)\n",
    "else:\n",
    "    print('Done.') # Will not execute"
   ]
  },
  {
   "cell_type": "code",
   "execution_count": null,
   "id": "94ec7567",
   "metadata": {},
   "outputs": [
    {
     "name": "stdout",
     "output_type": "stream",
     "text": [
      "Ketikan temperatur yang ingin dikonversi, eg. 45F, 120C: 12C\n",
      "Temperaturnya adalah 54 derajat\n"
     ]
    }
   ],
   "source": [
    "temp = input(\"Ketikan temperatur yang ingin dikonversi, eg. 45F, 120C: \")\n",
    "degree = int(temp[:-1])\n",
    "i_convertion = temp[-1]\n",
    "\n",
    "if i_convertion == \"C\":\n",
    "    result = int(round((9 * degree) / 5 + 32))\n",
    "elif i_convertion == \"F\":\n",
    "    result = int(round((degree - 32) * 5 / 9))\n",
    "else:\n",
    "    print(\"Masukkan input yang benar\")\n",
    "    \n",
    "print(\"Temperaturnya adalah\", result, \"derajat\")"
   ]
  },
  {
   "cell_type": "code",
   "execution_count": null,
   "id": "0be409ff",
   "metadata": {},
   "outputs": [
    {
     "data": {
      "text/plain": [
       "'12C'"
      ]
     },
     "execution_count": 36,
     "metadata": {},
     "output_type": "execute_result"
    }
   ],
   "source": [
    "temp"
   ]
  },
  {
   "cell_type": "code",
   "execution_count": null,
   "id": "68024be5",
   "metadata": {},
   "outputs": [
    {
     "data": {
      "text/plain": [
       "54"
      ]
     },
     "execution_count": 38,
     "metadata": {},
     "output_type": "execute_result"
    }
   ],
   "source": [
    "result"
   ]
  },
  {
   "cell_type": "code",
   "execution_count": null,
   "id": "10208a53",
   "metadata": {},
   "outputs": [
    {
     "name": "stdout",
     "output_type": "stream",
     "text": [
      "Ketikkan karakter: stop\n",
      "stop\n"
     ]
    }
   ],
   "source": [
    "while True:\n",
    "    msg = input(\"Ketikkan karakter: \"). lower()\n",
    "    print(msg)\n",
    "    if msg == \"stop\":\n",
    "        break"
   ]
  },
  {
   "cell_type": "code",
   "execution_count": null,
   "id": "e17a2c70",
   "metadata": {},
   "outputs": [],
   "source": []
  }
 ],
 "metadata": {
  "kernelspec": {
   "display_name": "Python 3.9.13 ('base')",
   "language": "python",
   "name": "python3"
  },
  "language_info": {
   "codemirror_mode": {
    "name": "ipython",
    "version": 3
   },
   "file_extension": ".py",
   "mimetype": "text/x-python",
   "name": "python",
   "nbconvert_exporter": "python",
   "pygments_lexer": "ipython3",
   "version": "3.9.13"
  },
  "vscode": {
   "interpreter": {
    "hash": "d59d52ade43162edbb467d9616250e95ae2e9434d6e1253c0b5377c88ad3f9d9"
   }
  }
 },
 "nbformat": 4,
 "nbformat_minor": 5
}
