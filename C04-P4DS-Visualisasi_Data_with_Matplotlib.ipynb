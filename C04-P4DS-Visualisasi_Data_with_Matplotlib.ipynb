{
 "cells": [
  {
   "cell_type": "code",
   "execution_count": 7,
   "metadata": {},
   "outputs": [
    {
     "data": {
      "text/plain": [
       "'1.21.5'"
      ]
     },
     "execution_count": 7,
     "metadata": {},
     "output_type": "execute_result"
    }
   ],
   "source": [
    "import numpy as np\n",
    "np.__version__"
   ]
  },
  {
   "cell_type": "code",
   "execution_count": 5,
   "metadata": {},
   "outputs": [],
   "source": [
    "import matplotlib.pyplot as plt"
   ]
  },
  {
   "cell_type": "code",
   "execution_count": 15,
   "metadata": {},
   "outputs": [
    {
     "data": {
      "text/plain": [
       "array([ 99,  45,  70, 162, 146,  70, 177, 176,  47, 148, 123,  67,  90,\n",
       "       122,  34, 160, 135, 102,  62,  61,  85,  52, 153, 128,  89,  37,\n",
       "       109,  60, 128,  57, 160,  67, 144,  97, 150, 148,  32, 155, 116,\n",
       "       137,  49,  70, 159, 159,  84, 114,  93, 110,  81, 122, 103,  53,\n",
       "        52, 147,  75,  93,  45,  46, 177,  91,  70,  69,  46, 150,  86,\n",
       "       170, 174, 143,  88,  71, 132,  67, 157, 118,  91, 158, 178, 176,\n",
       "        37, 155,  45,  66,  60,  35, 154,  75,  53,  33,  80, 126,  76,\n",
       "       113, 148, 163,  57,  83, 145, 148, 167, 129], dtype=uint16)"
      ]
     },
     "execution_count": 15,
     "metadata": {},
     "output_type": "execute_result"
    }
   ],
   "source": [
    "rand = np.random.RandomState(46)\n",
    "study_minutes = rand.randint(30, 180, size=100, dtype=np.uint16)\n",
    "study_minutes[study_minutes > 0]"
   ]
  },
  {
   "cell_type": "code",
   "execution_count": 18,
   "metadata": {},
   "outputs": [
    {
     "data": {
      "text/plain": [
       "[]"
      ]
     },
     "execution_count": 18,
     "metadata": {},
     "output_type": "execute_result"
    },
    {
     "data": {
      "image/png": "[encoded data removed]",
      "text/plain": [
       "<Figure size 432x288 with 1 Axes>"
      ]
     },
     "metadata": {
      "needs_background": "light"
     },
     "output_type": "display_data"
    }
   ],
   "source": [
    "plt.hist(study_minutes[study_minutes > 0])\n",
    "plt.plot()"
   ]
  },
  {
   "cell_type": "markdown",
   "metadata": {},
   "source": [
    "Selamat teman-teman yang telah berhasil belajar pustaka Numpy, yaitu salah satu pustaka penting di Python. Sebelum kita selesai, kita rangkum dulu apa yang sudah kita pelajari sepanjang course Komputasi Matematika:\n",
    "CHAPTER 1\n",
    "- ekspektasi yang diharapkan ketika teman-teman telah menyelesaikan course ini.\n",
    "- kemudian beberapa skill, kemampuan, dan tools yang kita gunakan sepanjang course ini.\n",
    "CHAPTER 2\n",
    "- Kita sudah melihat beberapa hal tentang Numpy apa itu Numpy, sedikit sejarahnya, dan juga persiapan menggunakan Numpy.\n",
    "CHAPTER 3\n",
    "- Lalu kita juga sudah melihat tentang struktur data array. Perbedaan Array dan List. Dan juga demo penggunaan Numpy Array.\n",
    "CHAPTER 4\n",
    "- kita sudah belajar mengorganisasikan array seperti Indexing, Filtering, Slicing, dan Copy vs View.\n",
    "CHAPTER 5\n",
    "- berikutnya kita melihat metode yang sedikit berbeda yang namanya Array programming disana kita belajar tentang Aljabar linear, Fungsi-fungsi Universal, dan juga operasi matriks lainnya.\n",
    "CHAPTER 6\n",
    "- Terakhir tentang visualisasi data dengan pustaka matplotlib.\n",
    "\n",
    "Kita bisa melihat powerfullnya numpy sehingga kompatibilitas dengan pustaka lain juga sangat tinggi sehingga kita dengan mudah melakukan visualisasi data dari bentuk Numpy Array menjadi sebuah grafik yang cukup enak dilihat.\n",
    "\n",
    "Dengan demikian berakhir sudah course tentang mengenal pustaka numpy kita kali ini. Seperti yang saya sebutkan di awal course, ekspektasi temen-temen setelah mengambil course ini adalah memiliki fondasi yang cukup kuat dan sudah bisa menguasai sebuah pustaka yang cukup powerfull, terutama yang sering digunakan untuk keperluan matematis, statistik, dan juga data."
   ]
  }
 ],
 "metadata": {
  "kernelspec": {
   "display_name": "Python 3.9.12 ('base')",
   "language": "python",
   "name": "python3"
  },
  "language_info": {
   "codemirror_mode": {
    "name": "ipython",
    "version": 3
   },
   "file_extension": ".py",
   "mimetype": "text/x-python",
   "name": "python",
   "nbconvert_exporter": "python",
   "pygments_lexer": "ipython3",
   "version": "3.9.12"
  },
  "orig_nbformat": 4,
  "vscode": {
   "interpreter": {
    "hash": "d7288e82646d3164eca24130947288f8779d11454649f2c02a5dfc42af7f324c"
   }
  }
 },
 "nbformat": 4,
 "nbformat_minor": 2
}
