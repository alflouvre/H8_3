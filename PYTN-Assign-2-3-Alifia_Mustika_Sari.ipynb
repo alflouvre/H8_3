{
 "cells": [
  {
   "cell_type": "markdown",
   "id": "344af520-cf5d-4c73-a8be-72d5c5de0bad",
   "metadata": {},
   "source": [
    "## Import Data "
   ]
  },
  {
   "cell_type": "code",
   "execution_count": 1,
   "id": "196a0177-6f5e-430a-bb5e-9e6983fe7e1c",
   "metadata": {},
   "outputs": [
    {
     "data": {
      "text/html": [
       "<div>\n",
       "<style scoped>\n",
       "    .dataframe tbody tr th:only-of-type {\n",
       "        vertical-align: middle;\n",
       "    }\n",
       "\n",
       "    .dataframe tbody tr th {\n",
       "        vertical-align: top;\n",
       "    }\n",
       "\n",
       "    .dataframe thead th {\n",
       "        text-align: right;\n",
       "    }\n",
       "</style>\n",
       "<table border=\"1\" class=\"dataframe\">\n",
       "  <thead>\n",
       "    <tr style=\"text-align: right;\">\n",
       "      <th></th>\n",
       "      <th>Unnamed: 0</th>\n",
       "      <th>BOROUGH</th>\n",
       "      <th>NEIGHBORHOOD</th>\n",
       "      <th>BUILDING CLASS CATEGORY</th>\n",
       "      <th>TAX CLASS AT PRESENT</th>\n",
       "      <th>BLOCK</th>\n",
       "      <th>LOT</th>\n",
       "      <th>EASE-MENT</th>\n",
       "      <th>BUILDING CLASS AT PRESENT</th>\n",
       "      <th>ADDRESS</th>\n",
       "      <th>...</th>\n",
       "      <th>RESIDENTIAL UNITS</th>\n",
       "      <th>COMMERCIAL UNITS</th>\n",
       "      <th>TOTAL UNITS</th>\n",
       "      <th>LAND SQUARE FEET</th>\n",
       "      <th>GROSS SQUARE FEET</th>\n",
       "      <th>YEAR BUILT</th>\n",
       "      <th>TAX CLASS AT TIME OF SALE</th>\n",
       "      <th>BUILDING CLASS AT TIME OF SALE</th>\n",
       "      <th>SALE PRICE</th>\n",
       "      <th>SALE DATE</th>\n",
       "    </tr>\n",
       "  </thead>\n",
       "  <tbody>\n",
       "    <tr>\n",
       "      <th>0</th>\n",
       "      <td>4</td>\n",
       "      <td>1</td>\n",
       "      <td>ALPHABET CITY</td>\n",
       "      <td>07 RENTALS - WALKUP APARTMENTS</td>\n",
       "      <td>2A</td>\n",
       "      <td>392</td>\n",
       "      <td>6</td>\n",
       "      <td></td>\n",
       "      <td>C2</td>\n",
       "      <td>153 AVENUE B</td>\n",
       "      <td>...</td>\n",
       "      <td>5</td>\n",
       "      <td>0</td>\n",
       "      <td>5</td>\n",
       "      <td>1633</td>\n",
       "      <td>6440</td>\n",
       "      <td>1900</td>\n",
       "      <td>2</td>\n",
       "      <td>C2</td>\n",
       "      <td>6625000</td>\n",
       "      <td>2017-07-19 00:00:00</td>\n",
       "    </tr>\n",
       "    <tr>\n",
       "      <th>1</th>\n",
       "      <td>5</td>\n",
       "      <td>1</td>\n",
       "      <td>ALPHABET CITY</td>\n",
       "      <td>07 RENTALS - WALKUP APARTMENTS</td>\n",
       "      <td>2</td>\n",
       "      <td>399</td>\n",
       "      <td>26</td>\n",
       "      <td></td>\n",
       "      <td>C7</td>\n",
       "      <td>234 EAST 4TH   STREET</td>\n",
       "      <td>...</td>\n",
       "      <td>28</td>\n",
       "      <td>3</td>\n",
       "      <td>31</td>\n",
       "      <td>4616</td>\n",
       "      <td>18690</td>\n",
       "      <td>1900</td>\n",
       "      <td>2</td>\n",
       "      <td>C7</td>\n",
       "      <td>-</td>\n",
       "      <td>2016-12-14 00:00:00</td>\n",
       "    </tr>\n",
       "    <tr>\n",
       "      <th>2</th>\n",
       "      <td>6</td>\n",
       "      <td>1</td>\n",
       "      <td>ALPHABET CITY</td>\n",
       "      <td>07 RENTALS - WALKUP APARTMENTS</td>\n",
       "      <td>2</td>\n",
       "      <td>399</td>\n",
       "      <td>39</td>\n",
       "      <td></td>\n",
       "      <td>C7</td>\n",
       "      <td>197 EAST 3RD   STREET</td>\n",
       "      <td>...</td>\n",
       "      <td>16</td>\n",
       "      <td>1</td>\n",
       "      <td>17</td>\n",
       "      <td>2212</td>\n",
       "      <td>7803</td>\n",
       "      <td>1900</td>\n",
       "      <td>2</td>\n",
       "      <td>C7</td>\n",
       "      <td>-</td>\n",
       "      <td>2016-12-09 00:00:00</td>\n",
       "    </tr>\n",
       "    <tr>\n",
       "      <th>3</th>\n",
       "      <td>7</td>\n",
       "      <td>1</td>\n",
       "      <td>ALPHABET CITY</td>\n",
       "      <td>07 RENTALS - WALKUP APARTMENTS</td>\n",
       "      <td>2B</td>\n",
       "      <td>402</td>\n",
       "      <td>21</td>\n",
       "      <td></td>\n",
       "      <td>C4</td>\n",
       "      <td>154 EAST 7TH STREET</td>\n",
       "      <td>...</td>\n",
       "      <td>10</td>\n",
       "      <td>0</td>\n",
       "      <td>10</td>\n",
       "      <td>2272</td>\n",
       "      <td>6794</td>\n",
       "      <td>1913</td>\n",
       "      <td>2</td>\n",
       "      <td>C4</td>\n",
       "      <td>3936272</td>\n",
       "      <td>2016-09-23 00:00:00</td>\n",
       "    </tr>\n",
       "    <tr>\n",
       "      <th>4</th>\n",
       "      <td>8</td>\n",
       "      <td>1</td>\n",
       "      <td>ALPHABET CITY</td>\n",
       "      <td>07 RENTALS - WALKUP APARTMENTS</td>\n",
       "      <td>2A</td>\n",
       "      <td>404</td>\n",
       "      <td>55</td>\n",
       "      <td></td>\n",
       "      <td>C2</td>\n",
       "      <td>301 EAST 10TH   STREET</td>\n",
       "      <td>...</td>\n",
       "      <td>6</td>\n",
       "      <td>0</td>\n",
       "      <td>6</td>\n",
       "      <td>2369</td>\n",
       "      <td>4615</td>\n",
       "      <td>1900</td>\n",
       "      <td>2</td>\n",
       "      <td>C2</td>\n",
       "      <td>8000000</td>\n",
       "      <td>2016-11-17 00:00:00</td>\n",
       "    </tr>\n",
       "  </tbody>\n",
       "</table>\n",
       "<p>5 rows × 22 columns</p>\n",
       "</div>"
      ],
      "text/plain": [
       "   Unnamed: 0  BOROUGH   NEIGHBORHOOD  \\\n",
       "0           4        1  ALPHABET CITY   \n",
       "1           5        1  ALPHABET CITY   \n",
       "2           6        1  ALPHABET CITY   \n",
       "3           7        1  ALPHABET CITY   \n",
       "4           8        1  ALPHABET CITY   \n",
       "\n",
       "                       BUILDING CLASS CATEGORY TAX CLASS AT PRESENT  BLOCK  \\\n",
       "0  07 RENTALS - WALKUP APARTMENTS                                2A    392   \n",
       "1  07 RENTALS - WALKUP APARTMENTS                                 2    399   \n",
       "2  07 RENTALS - WALKUP APARTMENTS                                 2    399   \n",
       "3  07 RENTALS - WALKUP APARTMENTS                                2B    402   \n",
       "4  07 RENTALS - WALKUP APARTMENTS                                2A    404   \n",
       "\n",
       "   LOT EASE-MENT BUILDING CLASS AT PRESENT                 ADDRESS  ...  \\\n",
       "0    6                                  C2            153 AVENUE B  ...   \n",
       "1   26                                  C7   234 EAST 4TH   STREET  ...   \n",
       "2   39                                  C7   197 EAST 3RD   STREET  ...   \n",
       "3   21                                  C4     154 EAST 7TH STREET  ...   \n",
       "4   55                                  C2  301 EAST 10TH   STREET  ...   \n",
       "\n",
       "  RESIDENTIAL UNITS  COMMERCIAL UNITS  TOTAL UNITS  LAND SQUARE FEET  \\\n",
       "0                 5                 0            5              1633   \n",
       "1                28                 3           31              4616   \n",
       "2                16                 1           17              2212   \n",
       "3                10                 0           10              2272   \n",
       "4                 6                 0            6              2369   \n",
       "\n",
       "   GROSS SQUARE FEET YEAR BUILT TAX CLASS AT TIME OF SALE  \\\n",
       "0               6440       1900                         2   \n",
       "1              18690       1900                         2   \n",
       "2               7803       1900                         2   \n",
       "3               6794       1913                         2   \n",
       "4               4615       1900                         2   \n",
       "\n",
       "   BUILDING CLASS AT TIME OF SALE  SALE PRICE            SALE DATE  \n",
       "0                              C2     6625000  2017-07-19 00:00:00  \n",
       "1                              C7         -    2016-12-14 00:00:00  \n",
       "2                              C7         -    2016-12-09 00:00:00  \n",
       "3                              C4     3936272  2016-09-23 00:00:00  \n",
       "4                              C2     8000000  2016-11-17 00:00:00  \n",
       "\n",
       "[5 rows x 22 columns]"
      ]
     },
     "execution_count": 1,
     "metadata": {},
     "output_type": "execute_result"
    }
   ],
   "source": [
    "import pandas as pd\n",
    "import warnings\n",
    "warnings.filterwarnings(\"ignore\")\n",
    "df = pd.read_csv('nyc-rolling-sales.csv')\n",
    "df.head()"
   ]
  },
  {
   "cell_type": "markdown",
   "id": "b885e240-12a9-4422-8311-afca99cc6132",
   "metadata": {},
   "source": [
    "## Processing Data"
   ]
  },
  {
   "cell_type": "code",
   "execution_count": 2,
   "id": "776b5246-1637-4bb6-991a-456c4027bb29",
   "metadata": {},
   "outputs": [
    {
     "name": "stdout",
     "output_type": "stream",
     "text": [
      "<class 'pandas.core.frame.DataFrame'>\n",
      "RangeIndex: 84548 entries, 0 to 84547\n",
      "Data columns (total 22 columns):\n",
      " #   Column                          Non-Null Count  Dtype \n",
      "---  ------                          --------------  ----- \n",
      " 0   Unnamed: 0                      84548 non-null  int64 \n",
      " 1   BOROUGH                         84548 non-null  int64 \n",
      " 2   NEIGHBORHOOD                    84548 non-null  object\n",
      " 3   BUILDING CLASS CATEGORY         84548 non-null  object\n",
      " 4   TAX CLASS AT PRESENT            84548 non-null  object\n",
      " 5   BLOCK                           84548 non-null  int64 \n",
      " 6   LOT                             84548 non-null  int64 \n",
      " 7   EASE-MENT                       84548 non-null  object\n",
      " 8   BUILDING CLASS AT PRESENT       84548 non-null  object\n",
      " 9   ADDRESS                         84548 non-null  object\n",
      " 10  APARTMENT NUMBER                84548 non-null  object\n",
      " 11  ZIP CODE                        84548 non-null  int64 \n",
      " 12  RESIDENTIAL UNITS               84548 non-null  int64 \n",
      " 13  COMMERCIAL UNITS                84548 non-null  int64 \n",
      " 14  TOTAL UNITS                     84548 non-null  int64 \n",
      " 15  LAND SQUARE FEET                84548 non-null  object\n",
      " 16  GROSS SQUARE FEET               84548 non-null  object\n",
      " 17  YEAR BUILT                      84548 non-null  int64 \n",
      " 18  TAX CLASS AT TIME OF SALE       84548 non-null  int64 \n",
      " 19  BUILDING CLASS AT TIME OF SALE  84548 non-null  object\n",
      " 20  SALE PRICE                      84548 non-null  object\n",
      " 21  SALE DATE                       84548 non-null  object\n",
      "dtypes: int64(10), object(12)\n",
      "memory usage: 14.2+ MB\n"
     ]
    }
   ],
   "source": [
    "df.info()"
   ]
  },
  {
   "cell_type": "markdown",
   "id": "88db16ed-2340-47c8-a9c1-c8f7b83d116c",
   "metadata": {},
   "source": [
    "**Menghapus Kolom**\n",
    "\n",
    "Dari info diatas, terlihat bahwa `banyak kolom yang tidak kita butuhkan`, oleh karena itu kita perlu menghapusnya. \n",
    "Disini kita akan menghapus kolom:\n",
    "- Unnamed: 0 = karena kolom tersebut merupakan index jadi kita tidak memerlukannya\n",
    "- EASE-MENT: = karena kolom tersebut merupakan kolom kosong\n",
    "- APARTMENT NUMBER dan ADDRESS = karena sudah terdapat kolom zipcode yang merepresentasikan wilayah rumah"
   ]
  },
  {
   "cell_type": "code",
   "execution_count": 3,
   "id": "3bd60ca4-4e64-4fa8-8c75-34229b381001",
   "metadata": {},
   "outputs": [],
   "source": [
    "df.drop(['Unnamed: 0','EASE-MENT','APARTMENT NUMBER','ADDRESS'],axis=1, inplace=True)"
   ]
  },
  {
   "cell_type": "markdown",
   "id": "20778f63-6ebf-409a-82a9-f676d2e62f23",
   "metadata": {},
   "source": [
    "Disini kita akan membersihkan data dari data data yang tidak sesuai "
   ]
  },
  {
   "cell_type": "markdown",
   "id": "be8865b4-387d-4f5c-bff9-90fbf4d14b86",
   "metadata": {},
   "source": [
    "**Merubah Tipe Data**\n",
    "\n",
    "Seperti yang terlihat pada info dataset, `terdapat kolom yang bertipe tidak sesuai dengan seharusnya,` \n",
    "Oleh karena itu kita harus merubahnya.\n",
    "Disini kita akan merubah tipe kolom:\n",
    "- \"RESIDENTIAL UNITS\",\"COMMERCIAL UNITS\",\"TOTAL UNITS\", \"LAND SQUARE FEET\", \"GROSS SQUARE FEET\",\"SALE PRICE\" : Dari tipe Object menjadi Numeric\n",
    "- \"BOROUGH\",\"NEIGHBORHOOD\",\"BUILDING CLASS CATEGORY\", \"TAX CLASS AT PRESENT\", \"BUILDING CLASS AT PRESENT\", \"ZIP CODE\", \"BUILDING CLASS AT TIME OF SALE\", \"TAX CLASS AT TIME OF SALE\",\"BLOCK\",\"LOT\" : Dari Object menjadi Category\n",
    "- SALE DATE : Dari tipe Object menjadi Date\n"
   ]
  },
  {
   "cell_type": "code",
   "execution_count": 4,
   "id": "f8773491-86c7-436b-a2b1-d110f87c86e1",
   "metadata": {},
   "outputs": [],
   "source": [
    "numeric = [\"RESIDENTIAL UNITS\",\"COMMERCIAL UNITS\",\"TOTAL UNITS\", \"LAND SQUARE FEET\" ,\n",
    "           \"GROSS SQUARE FEET\",\"SALE PRICE\" ]\n",
    "for col in numeric: \n",
    "    df[col] = pd.to_numeric(df[col], errors='coerce')\n",
    "\n",
    "categorical = [\"BOROUGH\",\"NEIGHBORHOOD\",\"BUILDING CLASS CATEGORY\", \"TAX CLASS AT PRESENT\",\n",
    "               \"BUILDING CLASS AT PRESENT\", \"ZIP CODE\", \"BUILDING CLASS AT TIME OF SALE\", \"TAX CLASS AT TIME OF SALE\",\n",
    "               \"BLOCK\",\"LOT\"]\n",
    "for col in categorical: \n",
    "    df[col] = df[col].astype('category')\n",
    "    \n",
    "df['SALE DATE'] = pd.to_datetime(df['SALE DATE'], errors='coerce')"
   ]
  },
  {
   "cell_type": "markdown",
   "id": "10ac6aa7-c460-46b6-9ed0-b22af2405b1d",
   "metadata": {},
   "source": [
    "**Missing Value pada Dataset**\n",
    "\n",
    "`Missing Value merupakan data yang hilang pada dataset.` Disini kita akan mengatasinya dengan Mengisi beberapa data yang hilang dan menghapus data yang hilang lainnya."
   ]
  },
  {
   "cell_type": "code",
   "execution_count": 5,
   "id": "02fd715d-ca84-422b-aa94-0f9077d60115",
   "metadata": {},
   "outputs": [],
   "source": [
    "import numpy as np\n",
    "df.replace(' ',np.nan, inplace=True)"
   ]
  },
  {
   "cell_type": "code",
   "execution_count": 6,
   "id": "2cc3abe6-7cdf-4455-a4da-b2f4cd6cc28b",
   "metadata": {},
   "outputs": [
    {
     "data": {
      "text/plain": [
       "BOROUGH                               0\n",
       "NEIGHBORHOOD                          0\n",
       "BUILDING CLASS CATEGORY               0\n",
       "TAX CLASS AT PRESENT                738\n",
       "BLOCK                                 0\n",
       "LOT                                   0\n",
       "BUILDING CLASS AT PRESENT           738\n",
       "ZIP CODE                              0\n",
       "RESIDENTIAL UNITS                     0\n",
       "COMMERCIAL UNITS                      0\n",
       "TOTAL UNITS                           0\n",
       "LAND SQUARE FEET                  26252\n",
       "GROSS SQUARE FEET                 27612\n",
       "YEAR BUILT                            0\n",
       "TAX CLASS AT TIME OF SALE             0\n",
       "BUILDING CLASS AT TIME OF SALE        0\n",
       "SALE PRICE                        14561\n",
       "SALE DATE                             0\n",
       "dtype: int64"
      ]
     },
     "execution_count": 6,
     "metadata": {},
     "output_type": "execute_result"
    }
   ],
   "source": [
    "df.isna().sum()"
   ]
  },
  {
   "cell_type": "markdown",
   "id": "1a88ff11-833c-4a35-a4e7-8d123e19a105",
   "metadata": {},
   "source": [
    "pada output diatas menunjukkan bahwa terdapat banyak missing value pada kolom `LAND SQUARE FEET` dan `GROSS SQUARE FEET`. Untuk itu daripada kita menghapus data sebanyak itu, kita bisa membuat imputation antar satu sama lain pada baris dengan nilai disatu kolom dan bukan di yang lain"
   ]
  },
  {
   "cell_type": "code",
   "execution_count": 7,
   "id": "bb5af851-915c-46a0-9b9d-147ce058ef47",
   "metadata": {},
   "outputs": [
    {
     "name": "stdout",
     "output_type": "stream",
     "text": [
      "6\n",
      "1366\n"
     ]
    }
   ],
   "source": [
    "print(df[(df['LAND SQUARE FEET'].isnull()) & (df['GROSS SQUARE FEET'].notnull())].shape[0])\n",
    "print(df[(df['LAND SQUARE FEET'].notnull()) & (df['GROSS SQUARE FEET'].isnull())].shape[0])"
   ]
  },
  {
   "cell_type": "markdown",
   "id": "0ef20d20-ea98-4089-9e2d-65d8b6d0852a",
   "metadata": {},
   "source": [
    "Diatas menunjukkan terdapat 1372 kolom yang bisa kita isi dengan nilai perkiraan"
   ]
  },
  {
   "cell_type": "markdown",
   "id": "7f0b28a7-35d8-4a03-9abd-f3faa5575e34",
   "metadata": {},
   "source": [
    "Pada kode dibawah ini, kita akan membuat dataset baru yang berisi kolom `LAND SQUARE FEET` dan `GROSS SQUARE FEET` untuk membuat model regresi yang bisa mengisi missing value dengan nilai yang akurat"
   ]
  },
  {
   "cell_type": "code",
   "execution_count": 8,
   "id": "1dc821d0-b29e-47c3-b8be-1ed5624dd302",
   "metadata": {},
   "outputs": [],
   "source": [
    "imputation = df[['LAND SQUARE FEET','GROSS SQUARE FEET']]"
   ]
  },
  {
   "cell_type": "code",
   "execution_count": 9,
   "id": "02f19987-b799-4a82-b850-07573abacbfa",
   "metadata": {},
   "outputs": [],
   "source": [
    "imputation.dropna(inplace = True)"
   ]
  },
  {
   "cell_type": "markdown",
   "id": "10795dba-fcca-4424-b95c-0b880e1d5ad6",
   "metadata": {},
   "source": [
    "Model Regresi untuk memprediksi missing value pada kolom `Gross Square Feet`"
   ]
  },
  {
   "cell_type": "code",
   "execution_count": 10,
   "id": "6d212c08-2c33-4cac-bc55-bc326dc32fb1",
   "metadata": {},
   "outputs": [
    {
     "name": "stdout",
     "output_type": "stream",
     "text": [
      "Sabit:  [1701.2484797]\n",
      "Katsayı:  [[0.64815423]]\n",
      "Regresyon Modeli: Y=[1701.2484797]+[[0.64815423]]X\n",
      "Rsquare:  0.4133841980340115\n"
     ]
    }
   ],
   "source": [
    "from sklearn.linear_model import LinearRegression\n",
    "X = imputation['LAND SQUARE FEET']\n",
    "y = imputation['GROSS SQUARE FEET']\n",
    "\n",
    "lm = LinearRegression()\n",
    "model = lm.fit(X.values.reshape(-1,1),y.values.reshape(-1,1))\n",
    "\n",
    "print(\"Sabit: \", model.intercept_)\n",
    "print(\"Katsayı: \", model.coef_)\n",
    "print(\"Regresyon Modeli: Y={}+{}X\".format(model.intercept_,model.coef_))\n",
    "print(\"Rsquare: \", model.score(X.values.reshape(-1,1),y.values.reshape(-1,1)))"
   ]
  },
  {
   "cell_type": "markdown",
   "id": "2276a3fe-4970-4fdb-ab6f-1b1413e08003",
   "metadata": {},
   "source": [
    "Model Regresi untuk memprediksi missing value pada kolom `Land Square Feet`"
   ]
  },
  {
   "cell_type": "code",
   "execution_count": 11,
   "id": "ab188e99-8776-4325-a5d9-2a6cf532662a",
   "metadata": {},
   "outputs": [
    {
     "name": "stdout",
     "output_type": "stream",
     "text": [
      "Sabit:  [1033.76397579]\n",
      "Katsayı:  [[0.63778678]]\n",
      "Regresyon Modeli: Y=[1033.76397579]+[[0.63778678]]X\n",
      "Rsquare:  0.4133841980340116\n"
     ]
    }
   ],
   "source": [
    "X = imputation['GROSS SQUARE FEET']\n",
    "y = imputation['LAND SQUARE FEET']\n",
    "\n",
    "lm = LinearRegression()\n",
    "model = lm.fit(X.values.reshape(-1,1),y.values.reshape(-1,1))\n",
    "\n",
    "print(\"Sabit: \", model.intercept_)\n",
    "print(\"Katsayı: \", model.coef_)\n",
    "print(\"Regresyon Modeli: Y={}+{}X\".format(model.intercept_,model.coef_))\n",
    "print(\"Rsquare: \", model.score(X.values.reshape(-1,1),y.values.reshape(-1,1)))"
   ]
  },
  {
   "cell_type": "markdown",
   "id": "a993bf08-ffce-4dcf-a927-a3ef8114b611",
   "metadata": {},
   "source": [
    "Function untuk memprediksi missing value pada kolom `LAND SQUARE FEET` dan `GROSS SQUARE FEET` berdasarkan estimator dari model yang telah dibuat"
   ]
  },
  {
   "cell_type": "code",
   "execution_count": 12,
   "id": "c377884e-d9f5-45e4-bd30-a62ebaf5d8a5",
   "metadata": {},
   "outputs": [],
   "source": [
    "def imputer_gross(x):\n",
    "    return x * 0.64779857 + 1822.76092513\n",
    "\n",
    "def imputer_land(x):\n",
    "    return x * 0.6375468 + 1107.3023519"
   ]
  },
  {
   "cell_type": "markdown",
   "id": "dfe4949c-3bee-47fc-b36f-3612b2243caa",
   "metadata": {},
   "source": [
    "Mengisi missing value berdasarkan function yang telah dibuat"
   ]
  },
  {
   "cell_type": "code",
   "execution_count": 13,
   "id": "56ba421c-cb43-4bfc-8f79-f0951e8fc250",
   "metadata": {},
   "outputs": [],
   "source": [
    "df['LAND SQUARE FEET'] = df['LAND SQUARE FEET'].mask((df['LAND SQUARE FEET'].isnull()) & (df['GROSS SQUARE FEET'].notnull()),\n",
    "                                                     imputer_land(df['GROSS SQUARE FEET']))\n",
    "df['GROSS SQUARE FEET'] = df['GROSS SQUARE FEET'].mask((df['LAND SQUARE FEET'].notnull()) & (df['GROSS SQUARE FEET'].isnull()),\n",
    "                                                       imputer_gross(df['LAND SQUARE FEET']))"
   ]
  },
  {
   "cell_type": "markdown",
   "id": "b2b65d4e-da30-4b3f-ab83-273ff2ecdb4b",
   "metadata": {},
   "source": [
    "Setelah mengisi beberapa missing value pada kolom `LAND SQUARE FEET` dan `GROSS SQUARE FEET`, kita bisa beralih mengatasi ke missing value lainnya dengan cara menghapusnya."
   ]
  },
  {
   "cell_type": "code",
   "execution_count": 14,
   "id": "b9b39d96-5f84-4f30-9265-e8dddb2ebe0b",
   "metadata": {},
   "outputs": [],
   "source": [
    "df = df.dropna()"
   ]
  },
  {
   "cell_type": "markdown",
   "id": "1da8fcde-660f-4183-be93-e35526610bfd",
   "metadata": {},
   "source": [
    "**Duplicate Data** \n",
    "\n",
    "`Duplicate Data merupakan data yang berisi duplikat dari data lain.`\n",
    "\n",
    "Dalam hal ini kita bisa mengatasinya dengan cara menghapus baris data yang duplikat dan menyimpan baris duplikat yang asli"
   ]
  },
  {
   "cell_type": "code",
   "execution_count": 15,
   "id": "223e345a-7179-4623-bb71-f4b39fdf9ab7",
   "metadata": {},
   "outputs": [
    {
     "name": "stdout",
     "output_type": "stream",
     "text": [
      "402\n"
     ]
    }
   ],
   "source": [
    "print(df.duplicated().sum())"
   ]
  },
  {
   "cell_type": "code",
   "execution_count": 16,
   "id": "bb9dae7d-49f7-4fec-828f-460b95026061",
   "metadata": {},
   "outputs": [],
   "source": [
    "df.drop_duplicates(inplace=True)"
   ]
  },
  {
   "cell_type": "markdown",
   "id": "46b7d4f9-fa63-4b34-9eb1-b73bf584b92e",
   "metadata": {},
   "source": [
    "**Membersihkan Data yang tidak sesuai**"
   ]
  },
  {
   "cell_type": "markdown",
   "id": "44709f71-ed08-4d71-828f-08b1cf41d3b7",
   "metadata": {},
   "source": [
    "Disini kita akan menghapus data data yang tidak sesuai. \n",
    "- Data Kolom `TOTAL UNIT` yang tidak sesuai dengan hasil pertambahan kolom `COMMERCIAL UNITS` dan `RESIDENTIAL UNITS`\n",
    "- Data kolom `YEAR BUILT`, `LAND SQUARE FEET`, `GROSS SQUARE FEET` yang berisi 0 "
   ]
  },
  {
   "cell_type": "code",
   "execution_count": 17,
   "id": "490ceb88-b053-4263-99e6-cbaaafaf74b9",
   "metadata": {},
   "outputs": [],
   "source": [
    "df_new = df[df[\"SALE PRICE\"] > 0] \n",
    "df_new = df_new[df_new['TOTAL UNITS'] == df_new['COMMERCIAL UNITS'] + df_new['RESIDENTIAL UNITS']]\n",
    "df_new = df_new[df_new['YEAR BUILT'] != 0]\n",
    "df_new = df_new[df_new[\"LAND SQUARE FEET\"] != 0]\n",
    "df_new = df_new[df_new[\"GROSS SQUARE FEET\"] != 0]\n"
   ]
  },
  {
   "cell_type": "markdown",
   "id": "5eac6ed1-844e-4404-ae79-20ecfe85f175",
   "metadata": {},
   "source": [
    "**Outliers**\n",
    "\n",
    "disini kita akan mengidentifikasi data outliers yang ada pada kolom `SALE PRICE` menggunakan describe."
   ]
  },
  {
   "cell_type": "code",
   "execution_count": 18,
   "id": "0f9becd3-d7e9-4881-b8fd-b2b20c3a1ab4",
   "metadata": {},
   "outputs": [
    {
     "data": {
      "text/html": [
       "<div>\n",
       "<style scoped>\n",
       "    .dataframe tbody tr th:only-of-type {\n",
       "        vertical-align: middle;\n",
       "    }\n",
       "\n",
       "    .dataframe tbody tr th {\n",
       "        vertical-align: top;\n",
       "    }\n",
       "\n",
       "    .dataframe thead th {\n",
       "        text-align: right;\n",
       "    }\n",
       "</style>\n",
       "<table border=\"1\" class=\"dataframe\">\n",
       "  <thead>\n",
       "    <tr style=\"text-align: right;\">\n",
       "      <th></th>\n",
       "      <th>RESIDENTIAL UNITS</th>\n",
       "      <th>COMMERCIAL UNITS</th>\n",
       "      <th>TOTAL UNITS</th>\n",
       "      <th>LAND SQUARE FEET</th>\n",
       "      <th>GROSS SQUARE FEET</th>\n",
       "      <th>YEAR BUILT</th>\n",
       "      <th>SALE PRICE</th>\n",
       "    </tr>\n",
       "  </thead>\n",
       "  <tbody>\n",
       "    <tr>\n",
       "      <th>count</th>\n",
       "      <td>29333.00000</td>\n",
       "      <td>29333.00000</td>\n",
       "      <td>29333.00000</td>\n",
       "      <td>29333.00000</td>\n",
       "      <td>29333.00000</td>\n",
       "      <td>29333.00000</td>\n",
       "      <td>29333.00000</td>\n",
       "    </tr>\n",
       "    <tr>\n",
       "      <th>mean</th>\n",
       "      <td>2.98336</td>\n",
       "      <td>0.30907</td>\n",
       "      <td>3.29244</td>\n",
       "      <td>4206.10817</td>\n",
       "      <td>4402.23091</td>\n",
       "      <td>1940.86602</td>\n",
       "      <td>1644075.66093</td>\n",
       "    </tr>\n",
       "    <tr>\n",
       "      <th>std</th>\n",
       "      <td>18.89364</td>\n",
       "      <td>13.78209</td>\n",
       "      <td>23.52943</td>\n",
       "      <td>38349.00104</td>\n",
       "      <td>33432.07242</td>\n",
       "      <td>31.10560</td>\n",
       "      <td>16997687.42236</td>\n",
       "    </tr>\n",
       "    <tr>\n",
       "      <th>min</th>\n",
       "      <td>0.00000</td>\n",
       "      <td>0.00000</td>\n",
       "      <td>0.00000</td>\n",
       "      <td>168.00000</td>\n",
       "      <td>120.00000</td>\n",
       "      <td>1111.00000</td>\n",
       "      <td>1.00000</td>\n",
       "    </tr>\n",
       "    <tr>\n",
       "      <th>25%</th>\n",
       "      <td>1.00000</td>\n",
       "      <td>0.00000</td>\n",
       "      <td>1.00000</td>\n",
       "      <td>2000.00000</td>\n",
       "      <td>1364.00000</td>\n",
       "      <td>1920.00000</td>\n",
       "      <td>420000.00000</td>\n",
       "    </tr>\n",
       "    <tr>\n",
       "      <th>50%</th>\n",
       "      <td>2.00000</td>\n",
       "      <td>0.00000</td>\n",
       "      <td>2.00000</td>\n",
       "      <td>2500.00000</td>\n",
       "      <td>1880.00000</td>\n",
       "      <td>1930.00000</td>\n",
       "      <td>620000.00000</td>\n",
       "    </tr>\n",
       "    <tr>\n",
       "      <th>75%</th>\n",
       "      <td>2.00000</td>\n",
       "      <td>0.00000</td>\n",
       "      <td>2.00000</td>\n",
       "      <td>4000.00000</td>\n",
       "      <td>2688.00000</td>\n",
       "      <td>1960.00000</td>\n",
       "      <td>950000.00000</td>\n",
       "    </tr>\n",
       "    <tr>\n",
       "      <th>max</th>\n",
       "      <td>1844.00000</td>\n",
       "      <td>2261.00000</td>\n",
       "      <td>2261.00000</td>\n",
       "      <td>4228300.00000</td>\n",
       "      <td>3750565.00000</td>\n",
       "      <td>2017.00000</td>\n",
       "      <td>2210000000.00000</td>\n",
       "    </tr>\n",
       "  </tbody>\n",
       "</table>\n",
       "</div>"
      ],
      "text/plain": [
       "      RESIDENTIAL UNITS COMMERCIAL UNITS  TOTAL UNITS LAND SQUARE FEET  \\\n",
       "count       29333.00000      29333.00000  29333.00000      29333.00000   \n",
       "mean            2.98336          0.30907      3.29244       4206.10817   \n",
       "std            18.89364         13.78209     23.52943      38349.00104   \n",
       "min             0.00000          0.00000      0.00000        168.00000   \n",
       "25%             1.00000          0.00000      1.00000       2000.00000   \n",
       "50%             2.00000          0.00000      2.00000       2500.00000   \n",
       "75%             2.00000          0.00000      2.00000       4000.00000   \n",
       "max          1844.00000       2261.00000   2261.00000    4228300.00000   \n",
       "\n",
       "      GROSS SQUARE FEET   YEAR BUILT        SALE PRICE  \n",
       "count       29333.00000  29333.00000       29333.00000  \n",
       "mean         4402.23091   1940.86602     1644075.66093  \n",
       "std         33432.07242     31.10560    16997687.42236  \n",
       "min           120.00000   1111.00000           1.00000  \n",
       "25%          1364.00000   1920.00000      420000.00000  \n",
       "50%          1880.00000   1930.00000      620000.00000  \n",
       "75%          2688.00000   1960.00000      950000.00000  \n",
       "max       3750565.00000   2017.00000  2210000000.00000  "
      ]
     },
     "execution_count": 18,
     "metadata": {},
     "output_type": "execute_result"
    }
   ],
   "source": [
    "df_new.describe().apply(lambda s: s.apply('{0:.5f}'.format))"
   ]
  },
  {
   "cell_type": "markdown",
   "id": "b554ad4d-fec6-4c4d-bb91-873c0c8e3f2a",
   "metadata": {},
   "source": [
    "disini terlihat bahwa nilai max pada kolom `SALE PRICE` jauh dengan mean yang ada.\n",
    "\n",
    "sekarang kita akan mengidentifikasi nilai `SALE PRICE` yang kurang dari 10.000 atau nilai yang lebih dari 10.000.000"
   ]
  },
  {
   "cell_type": "code",
   "execution_count": 19,
   "id": "c9bb15fe-b9fc-46fa-a332-47d1a68ee199",
   "metadata": {},
   "outputs": [
    {
     "data": {
      "text/plain": [
       "0.2409207267581011"
      ]
     },
     "execution_count": 19,
     "metadata": {},
     "output_type": "execute_result"
    }
   ],
   "source": [
    "df[(df['SALE PRICE']<10000) | (df['SALE PRICE']>10000000)]['SALE PRICE'].count() /len(df)"
   ]
  },
  {
   "cell_type": "code",
   "execution_count": 20,
   "id": "00236d79-3f36-4474-96e0-2294282adac1",
   "metadata": {},
   "outputs": [
    {
     "name": "stdout",
     "output_type": "stream",
     "text": [
      "420000.0 950000.0\n"
     ]
    }
   ],
   "source": [
    "Q1 = df_new['SALE PRICE'].quantile(0.25)\n",
    "Q3 = df_new['SALE PRICE'].quantile(0.75)\n",
    "print(Q1, Q3)"
   ]
  },
  {
   "cell_type": "markdown",
   "id": "e52756b0-f02d-4abb-9bb8-4d7d525cc325",
   "metadata": {},
   "source": [
    "Terlihat bahwa terdapat 25% data yang kurang dari 10.000 atau nilai yang lebih dari 10.000.000. Maka kita harus menghapus data ini karena termasuk data outliers yang mana data tersebut diluar batas Q1 dan Q3 ."
   ]
  },
  {
   "cell_type": "code",
   "execution_count": 21,
   "id": "431b3fdc-8e4e-45bd-b0d9-cd2e84db68af",
   "metadata": {},
   "outputs": [],
   "source": [
    "# Pada kolom sale price\n",
    "df_new = df_new[(df_new['SALE PRICE']>10000) & (df_new['SALE PRICE']<10000000)]"
   ]
  },
  {
   "cell_type": "markdown",
   "id": "002294a2-1f79-46a5-8eaa-aafb7d08ced4",
   "metadata": {},
   "source": [
    "*Dengan ini maka Data telah siap untuk digunakan*"
   ]
  },
  {
   "cell_type": "markdown",
   "id": "fbdb237d-27c0-4705-bd53-17fe6d5e1905",
   "metadata": {},
   "source": [
    "## Measure of Central Tendency : Mean"
   ]
  },
  {
   "cell_type": "markdown",
   "id": "647c4e15-6a24-4ece-b80c-5d3f0975a879",
   "metadata": {},
   "source": [
    "Menghitung Mean menggunakan Pandas"
   ]
  },
  {
   "cell_type": "code",
   "execution_count": 22,
   "id": "30c450d3-ce1c-4f37-b28c-e50b949f0e4f",
   "metadata": {},
   "outputs": [
    {
     "data": {
      "text/plain": [
       "RESIDENTIAL UNITS         2.341\n",
       "COMMERCIAL UNITS          0.227\n",
       "TOTAL UNITS               2.568\n",
       "LAND SQUARE FEET       3861.434\n",
       "GROSS SQUARE FEET      3121.873\n",
       "YEAR BUILT             1941.002\n",
       "SALE PRICE           917141.687\n",
       "dtype: float64"
      ]
     },
     "execution_count": 22,
     "metadata": {},
     "output_type": "execute_result"
    }
   ],
   "source": [
    "round(df_new.mean(), 3)"
   ]
  },
  {
   "cell_type": "markdown",
   "id": "09942da1-ec3e-4194-9d62-8da29d3bc272",
   "metadata": {},
   "source": [
    "Menghitung Mean menggunakan Numpy"
   ]
  },
  {
   "cell_type": "code",
   "execution_count": 23,
   "id": "f2df8245-18b2-4b86-a05e-5acdb0521c61",
   "metadata": {},
   "outputs": [
    {
     "data": {
      "text/plain": [
       "RESIDENTIAL UNITS         2.341\n",
       "COMMERCIAL UNITS          0.227\n",
       "TOTAL UNITS               2.568\n",
       "LAND SQUARE FEET       3861.434\n",
       "GROSS SQUARE FEET      3121.873\n",
       "YEAR BUILT             1941.002\n",
       "SALE PRICE           917141.687\n",
       "dtype: float64"
      ]
     },
     "execution_count": 23,
     "metadata": {},
     "output_type": "execute_result"
    }
   ],
   "source": [
    "import numpy as np\n",
    "round(np.mean(df_new), 3)"
   ]
  },
  {
   "cell_type": "markdown",
   "id": "1a1c6b4e-3be3-40a0-91a4-7435a7f420aa",
   "metadata": {},
   "source": [
    "Menghitung Mean menggunakan Scipy"
   ]
  },
  {
   "cell_type": "code",
   "execution_count": 24,
   "id": "11e67b64-ab2b-4741-9785-ad042f229781",
   "metadata": {},
   "outputs": [
    {
     "data": {
      "text/plain": [
       "RESIDENTIAL UNITS         2.341\n",
       "COMMERCIAL UNITS          0.227\n",
       "TOTAL UNITS               2.568\n",
       "LAND SQUARE FEET       3861.434\n",
       "GROSS SQUARE FEET      3121.873\n",
       "YEAR BUILT             1941.002\n",
       "SALE PRICE           917141.687\n",
       "dtype: float64"
      ]
     },
     "execution_count": 24,
     "metadata": {},
     "output_type": "execute_result"
    }
   ],
   "source": [
    "import scipy.stats\n",
    "round(scipy.mean(df_new), 3)"
   ]
  },
  {
   "cell_type": "markdown",
   "id": "bf33a2d4-837c-428d-bfda-ea262502fed7",
   "metadata": {},
   "source": [
    "## Measure of Central Tendency : Median"
   ]
  },
  {
   "cell_type": "markdown",
   "id": "f6f2a27a-7fb7-4fcd-a1ad-d95ee84a7e85",
   "metadata": {},
   "source": [
    "Menghitung Median menggunakan Pandas"
   ]
  },
  {
   "cell_type": "code",
   "execution_count": 25,
   "id": "780bc16c-26a8-4b18-a806-1deaefc08707",
   "metadata": {},
   "outputs": [
    {
     "data": {
      "text/plain": [
       "RESIDENTIAL UNITS         2.0\n",
       "COMMERCIAL UNITS          0.0\n",
       "TOTAL UNITS               2.0\n",
       "LAND SQUARE FEET       2500.0\n",
       "GROSS SQUARE FEET      1848.0\n",
       "YEAR BUILT             1930.0\n",
       "SALE PRICE           625000.0\n",
       "dtype: float64"
      ]
     },
     "execution_count": 25,
     "metadata": {},
     "output_type": "execute_result"
    }
   ],
   "source": [
    "round(df_new.median(), 3)"
   ]
  },
  {
   "cell_type": "markdown",
   "id": "e6ba595a-ed7f-4682-bc7d-f3c610683b8b",
   "metadata": {},
   "source": [
    "Menghitung Median menggunakan Numpy"
   ]
  },
  {
   "cell_type": "code",
   "execution_count": 26,
   "id": "88313330-9c34-43ec-a467-489427b27e3d",
   "metadata": {},
   "outputs": [
    {
     "name": "stdout",
     "output_type": "stream",
     "text": [
      "RESIDENTIAL UNITS 2.0\n",
      "COMMERCIAL UNITS 0.0\n",
      "TOTAL UNITS 2.0\n",
      "LAND SQUARE FEET 2500.0\n",
      "GROSS SQUARE FEET 1848.0\n",
      "YEAR BUILT 1930.0\n",
      "SALE PRICE 625000.0\n"
     ]
    }
   ],
   "source": [
    "columns=['RESIDENTIAL UNITS','COMMERCIAL UNITS','TOTAL UNITS','LAND SQUARE FEET','GROSS SQUARE FEET','YEAR BUILT','SALE PRICE']\n",
    "for col in columns:\n",
    "    print(col, round(np.median(df_new[col]),3))"
   ]
  },
  {
   "cell_type": "markdown",
   "id": "1d35154b-d929-45bb-b535-ba2f00361611",
   "metadata": {},
   "source": [
    "Menghitung Median Menggunakan Scipy"
   ]
  },
  {
   "cell_type": "code",
   "execution_count": 27,
   "id": "40ca0f28-dd38-49b6-9441-fba63486d273",
   "metadata": {},
   "outputs": [
    {
     "name": "stdout",
     "output_type": "stream",
     "text": [
      "RESIDENTIAL UNITS 2.0\n",
      "COMMERCIAL UNITS 0.0\n",
      "TOTAL UNITS 2.0\n",
      "LAND SQUARE FEET 2500.0\n",
      "GROSS SQUARE FEET 1848.0\n",
      "YEAR BUILT 1930.0\n",
      "SALE PRICE 625000.0\n"
     ]
    }
   ],
   "source": [
    "columns=['RESIDENTIAL UNITS','COMMERCIAL UNITS','TOTAL UNITS','LAND SQUARE FEET','GROSS SQUARE FEET','YEAR BUILT','SALE PRICE']\n",
    "for col in columns:\n",
    "    print(col, round(scipy.median(df_new[col]),3))"
   ]
  },
  {
   "cell_type": "markdown",
   "id": "209f20c1-432a-4356-bb61-c0f8752cbb8c",
   "metadata": {},
   "source": [
    "## Measure of Central Tendency : Modus"
   ]
  },
  {
   "cell_type": "markdown",
   "id": "57c39143-86dc-4630-a6db-815b0aece3e5",
   "metadata": {},
   "source": [
    "Menghitung Modus Menggunakan Pandas"
   ]
  },
  {
   "cell_type": "code",
   "execution_count": 28,
   "id": "ce9081f9-4df5-4edd-bd1b-20df56fef57c",
   "metadata": {},
   "outputs": [
    {
     "data": {
      "text/html": [
       "<div>\n",
       "<style scoped>\n",
       "    .dataframe tbody tr th:only-of-type {\n",
       "        vertical-align: middle;\n",
       "    }\n",
       "\n",
       "    .dataframe tbody tr th {\n",
       "        vertical-align: top;\n",
       "    }\n",
       "\n",
       "    .dataframe thead th {\n",
       "        text-align: right;\n",
       "    }\n",
       "</style>\n",
       "<table border=\"1\" class=\"dataframe\">\n",
       "  <thead>\n",
       "    <tr style=\"text-align: right;\">\n",
       "      <th></th>\n",
       "      <th>BOROUGH</th>\n",
       "      <th>NEIGHBORHOOD</th>\n",
       "      <th>BUILDING CLASS CATEGORY</th>\n",
       "      <th>TAX CLASS AT PRESENT</th>\n",
       "      <th>BLOCK</th>\n",
       "      <th>LOT</th>\n",
       "      <th>BUILDING CLASS AT PRESENT</th>\n",
       "      <th>ZIP CODE</th>\n",
       "      <th>RESIDENTIAL UNITS</th>\n",
       "      <th>COMMERCIAL UNITS</th>\n",
       "      <th>TOTAL UNITS</th>\n",
       "      <th>LAND SQUARE FEET</th>\n",
       "      <th>GROSS SQUARE FEET</th>\n",
       "      <th>YEAR BUILT</th>\n",
       "      <th>TAX CLASS AT TIME OF SALE</th>\n",
       "      <th>BUILDING CLASS AT TIME OF SALE</th>\n",
       "      <th>SALE PRICE</th>\n",
       "      <th>SALE DATE</th>\n",
       "    </tr>\n",
       "  </thead>\n",
       "  <tbody>\n",
       "    <tr>\n",
       "      <th>0</th>\n",
       "      <td>4</td>\n",
       "      <td>FLUSHING-NORTH</td>\n",
       "      <td>01 ONE FAMILY DWELLINGS</td>\n",
       "      <td>1</td>\n",
       "      <td>4452</td>\n",
       "      <td>1</td>\n",
       "      <td>A1</td>\n",
       "      <td>10314</td>\n",
       "      <td>1</td>\n",
       "      <td>0</td>\n",
       "      <td>1</td>\n",
       "      <td>2000.0</td>\n",
       "      <td>1800.0</td>\n",
       "      <td>1920</td>\n",
       "      <td>1</td>\n",
       "      <td>A1</td>\n",
       "      <td>700000.0</td>\n",
       "      <td>2017-04-28</td>\n",
       "    </tr>\n",
       "  </tbody>\n",
       "</table>\n",
       "</div>"
      ],
      "text/plain": [
       "  BOROUGH    NEIGHBORHOOD                      BUILDING CLASS CATEGORY  \\\n",
       "0       4  FLUSHING-NORTH  01 ONE FAMILY DWELLINGS                       \n",
       "\n",
       "  TAX CLASS AT PRESENT BLOCK LOT BUILDING CLASS AT PRESENT ZIP CODE  \\\n",
       "0                    1  4452   1                        A1    10314   \n",
       "\n",
       "   RESIDENTIAL UNITS  COMMERCIAL UNITS  TOTAL UNITS  LAND SQUARE FEET  \\\n",
       "0                  1                 0            1            2000.0   \n",
       "\n",
       "   GROSS SQUARE FEET  YEAR BUILT TAX CLASS AT TIME OF SALE  \\\n",
       "0             1800.0        1920                         1   \n",
       "\n",
       "  BUILDING CLASS AT TIME OF SALE  SALE PRICE  SALE DATE  \n",
       "0                             A1    700000.0 2017-04-28  "
      ]
     },
     "execution_count": 28,
     "metadata": {},
     "output_type": "execute_result"
    }
   ],
   "source": [
    "round(df_new.mode(),3)"
   ]
  },
  {
   "cell_type": "code",
   "execution_count": 29,
   "id": "0ffc3578-fd7c-4f74-9d84-9ab540faee6c",
   "metadata": {},
   "outputs": [],
   "source": [
    "categorical = df_new.select_dtypes(include=['category'])"
   ]
  },
  {
   "cell_type": "code",
   "execution_count": 30,
   "id": "c426ddf5-4a92-48a8-977d-e98c337117dd",
   "metadata": {},
   "outputs": [
    {
     "data": {
      "text/html": [
       "<div>\n",
       "<style scoped>\n",
       "    .dataframe tbody tr th:only-of-type {\n",
       "        vertical-align: middle;\n",
       "    }\n",
       "\n",
       "    .dataframe tbody tr th {\n",
       "        vertical-align: top;\n",
       "    }\n",
       "\n",
       "    .dataframe thead th {\n",
       "        text-align: right;\n",
       "    }\n",
       "</style>\n",
       "<table border=\"1\" class=\"dataframe\">\n",
       "  <thead>\n",
       "    <tr style=\"text-align: right;\">\n",
       "      <th></th>\n",
       "      <th>count</th>\n",
       "      <th>unique</th>\n",
       "      <th>top</th>\n",
       "      <th>freq</th>\n",
       "    </tr>\n",
       "  </thead>\n",
       "  <tbody>\n",
       "    <tr>\n",
       "      <th>BOROUGH</th>\n",
       "      <td>27862</td>\n",
       "      <td>5</td>\n",
       "      <td>4</td>\n",
       "      <td>10707</td>\n",
       "    </tr>\n",
       "    <tr>\n",
       "      <th>NEIGHBORHOOD</th>\n",
       "      <td>27862</td>\n",
       "      <td>245</td>\n",
       "      <td>FLUSHING-NORTH</td>\n",
       "      <td>771</td>\n",
       "    </tr>\n",
       "    <tr>\n",
       "      <th>BUILDING CLASS CATEGORY</th>\n",
       "      <td>27862</td>\n",
       "      <td>28</td>\n",
       "      <td>01 ONE FAMILY DWELLINGS</td>\n",
       "      <td>12595</td>\n",
       "    </tr>\n",
       "    <tr>\n",
       "      <th>TAX CLASS AT PRESENT</th>\n",
       "      <td>27862</td>\n",
       "      <td>7</td>\n",
       "      <td>1</td>\n",
       "      <td>24680</td>\n",
       "    </tr>\n",
       "    <tr>\n",
       "      <th>BLOCK</th>\n",
       "      <td>27862</td>\n",
       "      <td>9736</td>\n",
       "      <td>4452</td>\n",
       "      <td>57</td>\n",
       "    </tr>\n",
       "    <tr>\n",
       "      <th>LOT</th>\n",
       "      <td>27862</td>\n",
       "      <td>661</td>\n",
       "      <td>1</td>\n",
       "      <td>623</td>\n",
       "    </tr>\n",
       "    <tr>\n",
       "      <th>BUILDING CLASS AT PRESENT</th>\n",
       "      <td>27862</td>\n",
       "      <td>115</td>\n",
       "      <td>A1</td>\n",
       "      <td>4705</td>\n",
       "    </tr>\n",
       "    <tr>\n",
       "      <th>ZIP CODE</th>\n",
       "      <td>27862</td>\n",
       "      <td>173</td>\n",
       "      <td>10314</td>\n",
       "      <td>859</td>\n",
       "    </tr>\n",
       "    <tr>\n",
       "      <th>TAX CLASS AT TIME OF SALE</th>\n",
       "      <td>27862</td>\n",
       "      <td>3</td>\n",
       "      <td>1</td>\n",
       "      <td>24697</td>\n",
       "    </tr>\n",
       "    <tr>\n",
       "      <th>BUILDING CLASS AT TIME OF SALE</th>\n",
       "      <td>27862</td>\n",
       "      <td>115</td>\n",
       "      <td>A1</td>\n",
       "      <td>4703</td>\n",
       "    </tr>\n",
       "  </tbody>\n",
       "</table>\n",
       "</div>"
      ],
      "text/plain": [
       "                                count unique  \\\n",
       "BOROUGH                         27862      5   \n",
       "NEIGHBORHOOD                    27862    245   \n",
       "BUILDING CLASS CATEGORY         27862     28   \n",
       "TAX CLASS AT PRESENT            27862      7   \n",
       "BLOCK                           27862   9736   \n",
       "LOT                             27862    661   \n",
       "BUILDING CLASS AT PRESENT       27862    115   \n",
       "ZIP CODE                        27862    173   \n",
       "TAX CLASS AT TIME OF SALE       27862      3   \n",
       "BUILDING CLASS AT TIME OF SALE  27862    115   \n",
       "\n",
       "                                                                        top  \\\n",
       "BOROUGH                                                                   4   \n",
       "NEIGHBORHOOD                                                 FLUSHING-NORTH   \n",
       "BUILDING CLASS CATEGORY         01 ONE FAMILY DWELLINGS                       \n",
       "TAX CLASS AT PRESENT                                                      1   \n",
       "BLOCK                                                                  4452   \n",
       "LOT                                                                       1   \n",
       "BUILDING CLASS AT PRESENT                                                A1   \n",
       "ZIP CODE                                                              10314   \n",
       "TAX CLASS AT TIME OF SALE                                                 1   \n",
       "BUILDING CLASS AT TIME OF SALE                                           A1   \n",
       "\n",
       "                                 freq  \n",
       "BOROUGH                         10707  \n",
       "NEIGHBORHOOD                      771  \n",
       "BUILDING CLASS CATEGORY         12595  \n",
       "TAX CLASS AT PRESENT            24680  \n",
       "BLOCK                              57  \n",
       "LOT                               623  \n",
       "BUILDING CLASS AT PRESENT        4705  \n",
       "ZIP CODE                          859  \n",
       "TAX CLASS AT TIME OF SALE       24697  \n",
       "BUILDING CLASS AT TIME OF SALE   4703  "
      ]
     },
     "execution_count": 30,
     "metadata": {},
     "output_type": "execute_result"
    }
   ],
   "source": [
    "categorical.describe().transpose()"
   ]
  },
  {
   "cell_type": "markdown",
   "id": "1a708d85-80a8-4a2a-8f69-f7ce23e4d168",
   "metadata": {},
   "source": [
    "Menghitung Modus menggunakan Numpy"
   ]
  },
  {
   "cell_type": "code",
   "execution_count": 31,
   "id": "17c2b00d-18c7-4a6d-b77e-a41de4971a1a",
   "metadata": {},
   "outputs": [
    {
     "name": "stdout",
     "output_type": "stream",
     "text": [
      "BOROUGH 4\n",
      "NEIGHBORHOOD FLUSHING-NORTH\n",
      "BUILDING CLASS CATEGORY 01 ONE FAMILY DWELLINGS                    \n",
      "TAX CLASS AT PRESENT 1\n",
      "BUILDING CLASS AT PRESENT A1\n",
      "ZIP CODE 10314\n",
      "BUILDING CLASS AT TIME OF SALE A1\n",
      "TAX CLASS AT TIME OF SALE 1\n",
      "BLOCK 4452\n",
      "LOT 1\n",
      "RESIDENTIAL UNITS 1\n",
      "COMMERCIAL UNITS 0\n",
      "TOTAL UNITS 1\n",
      "LAND SQUARE FEET 2000.0\n",
      "GROSS SQUARE FEET 1800.0\n",
      "YEAR BUILT 1920\n",
      "SALE PRICE 700000.0\n"
     ]
    }
   ],
   "source": [
    "columns=[\"BOROUGH\",\"NEIGHBORHOOD\",\"BUILDING CLASS CATEGORY\", \"TAX CLASS AT PRESENT\",\n",
    "               \"BUILDING CLASS AT PRESENT\", \"ZIP CODE\", \"BUILDING CLASS AT TIME OF SALE\", \"TAX CLASS AT TIME OF SALE\",\n",
    "               \"BLOCK\",\"LOT\",'RESIDENTIAL UNITS','COMMERCIAL UNITS','TOTAL UNITS','LAND SQUARE FEET','GROSS SQUARE FEET','YEAR BUILT','SALE PRICE']\n",
    "for col in columns:\n",
    "    vals,counts = np.unique(df_new[col], return_counts=True)\n",
    "    index = np.argmax(counts)\n",
    "    print(col, vals[index])\n"
   ]
  },
  {
   "cell_type": "markdown",
   "id": "237552b2-f2b1-44a8-8939-f3d06d735e4b",
   "metadata": {},
   "source": [
    "Menghitung Modus menggunakan Scipy"
   ]
  },
  {
   "cell_type": "code",
   "execution_count": 32,
   "id": "a0e34f77-f1fa-43d7-858f-9e2bc2d8821b",
   "metadata": {},
   "outputs": [
    {
     "data": {
      "text/html": [
       "<div>\n",
       "<style scoped>\n",
       "    .dataframe tbody tr th:only-of-type {\n",
       "        vertical-align: middle;\n",
       "    }\n",
       "\n",
       "    .dataframe tbody tr th {\n",
       "        vertical-align: top;\n",
       "    }\n",
       "\n",
       "    .dataframe thead th {\n",
       "        text-align: right;\n",
       "    }\n",
       "</style>\n",
       "<table border=\"1\" class=\"dataframe\">\n",
       "  <thead>\n",
       "    <tr style=\"text-align: right;\">\n",
       "      <th></th>\n",
       "      <th>BOROUGH</th>\n",
       "      <th>NEIGHBORHOOD</th>\n",
       "      <th>BUILDING CLASS CATEGORY</th>\n",
       "      <th>TAX CLASS AT PRESENT</th>\n",
       "      <th>BUILDING CLASS AT PRESENT</th>\n",
       "      <th>ZIP CODE</th>\n",
       "      <th>BUILDING CLASS AT TIME OF SALE</th>\n",
       "      <th>TAX CLASS AT TIME OF SALE</th>\n",
       "      <th>BLOCK</th>\n",
       "      <th>LOT</th>\n",
       "      <th>RESIDENTIAL UNITS</th>\n",
       "      <th>COMMERCIAL UNITS</th>\n",
       "      <th>TOTAL UNITS</th>\n",
       "      <th>LAND SQUARE FEET</th>\n",
       "      <th>GROSS SQUARE FEET</th>\n",
       "      <th>YEAR BUILT</th>\n",
       "      <th>SALE PRICE</th>\n",
       "      <th>SALE DATE</th>\n",
       "    </tr>\n",
       "  </thead>\n",
       "  <tbody>\n",
       "    <tr>\n",
       "      <th>0</th>\n",
       "      <td>4</td>\n",
       "      <td>FLUSHING-NORTH</td>\n",
       "      <td>01 ONE FAMILY DWELLINGS</td>\n",
       "      <td>1</td>\n",
       "      <td>4452</td>\n",
       "      <td>1</td>\n",
       "      <td>A1</td>\n",
       "      <td>10314</td>\n",
       "      <td>1</td>\n",
       "      <td>0</td>\n",
       "      <td>1</td>\n",
       "      <td>2000.0</td>\n",
       "      <td>1800.0</td>\n",
       "      <td>1920</td>\n",
       "      <td>1</td>\n",
       "      <td>A1</td>\n",
       "      <td>700000.0</td>\n",
       "      <td>2017-04-28</td>\n",
       "    </tr>\n",
       "  </tbody>\n",
       "</table>\n",
       "</div>"
      ],
      "text/plain": [
       "  BOROUGH    NEIGHBORHOOD                      BUILDING CLASS CATEGORY  \\\n",
       "0       4  FLUSHING-NORTH  01 ONE FAMILY DWELLINGS                       \n",
       "\n",
       "  TAX CLASS AT PRESENT BUILDING CLASS AT PRESENT ZIP CODE  \\\n",
       "0                    1                      4452        1   \n",
       "\n",
       "  BUILDING CLASS AT TIME OF SALE TAX CLASS AT TIME OF SALE BLOCK LOT  \\\n",
       "0                             A1                     10314     1   0   \n",
       "\n",
       "  RESIDENTIAL UNITS COMMERCIAL UNITS TOTAL UNITS LAND SQUARE FEET  \\\n",
       "0                 1           2000.0      1800.0             1920   \n",
       "\n",
       "  GROSS SQUARE FEET YEAR BUILT SALE PRICE  SALE DATE  \n",
       "0                 1         A1   700000.0 2017-04-28  "
      ]
     },
     "execution_count": 32,
     "metadata": {},
     "output_type": "execute_result"
    }
   ],
   "source": [
    "from scipy import stats\n",
    "columns=[\"BOROUGH\",\"NEIGHBORHOOD\",\"BUILDING CLASS CATEGORY\", \"TAX CLASS AT PRESENT\",\n",
    "               \"BUILDING CLASS AT PRESENT\", \"ZIP CODE\", \"BUILDING CLASS AT TIME OF SALE\", \"TAX CLASS AT TIME OF SALE\",\n",
    "               \"BLOCK\",\"LOT\",'RESIDENTIAL UNITS','COMMERCIAL UNITS','TOTAL UNITS','LAND SQUARE FEET','GROSS SQUARE FEET','YEAR BUILT','SALE PRICE', 'SALE DATE']\n",
    "x = stats.mode(df_new)\n",
    "mode = x.mode\n",
    "count=x.count\n",
    "dx = pd.DataFrame(mode, columns = columns)\n",
    "dx"
   ]
  },
  {
   "cell_type": "markdown",
   "id": "b31a51b5-be58-4c7f-9625-ae2f2f5dcb3a",
   "metadata": {},
   "source": [
    "## Measure of Spread : Range"
   ]
  },
  {
   "cell_type": "markdown",
   "id": "4749693b-fa86-4a0e-bf25-5153590bdfa2",
   "metadata": {},
   "source": [
    "Menghitung Range menggunakan Pandas"
   ]
  },
  {
   "cell_type": "code",
   "execution_count": 33,
   "id": "b9584033-8ffa-46b5-8582-c2eca5f8959d",
   "metadata": {},
   "outputs": [
    {
     "name": "stdout",
     "output_type": "stream",
     "text": [
      "RESIDENTIAL UNITS 1844\n",
      "COMMERCIAL UNITS 2261\n",
      "TOTAL UNITS 2261\n",
      "LAND SQUARE FEET 4228132.0\n",
      "GROSS SQUARE FEET 3750445.0\n",
      "YEAR BUILT 906\n",
      "SALE PRICE 9989998.0\n"
     ]
    }
   ],
   "source": [
    "columns=['RESIDENTIAL UNITS','COMMERCIAL UNITS','TOTAL UNITS','LAND SQUARE FEET','GROSS SQUARE FEET','YEAR BUILT','SALE PRICE']\n",
    "for col in columns:\n",
    "    print(col, (df_new[col].max() - df_new[col].min()))"
   ]
  },
  {
   "cell_type": "markdown",
   "id": "2ab342ea-141b-4d46-a644-bca8ccb7acb1",
   "metadata": {},
   "source": [
    "Menghitung Range menggunakan Numpy"
   ]
  },
  {
   "cell_type": "code",
   "execution_count": 34,
   "id": "2a6667dc-128e-4c71-a8a7-45ebde4d7138",
   "metadata": {},
   "outputs": [
    {
     "name": "stdout",
     "output_type": "stream",
     "text": [
      "RESIDENTIAL UNITS 1844\n",
      "COMMERCIAL UNITS 2261\n",
      "TOTAL UNITS 2261\n",
      "LAND SQUARE FEET 4228132.0\n",
      "GROSS SQUARE FEET 3750445.0\n",
      "YEAR BUILT 906\n",
      "SALE PRICE 9989998.0\n"
     ]
    }
   ],
   "source": [
    "columns=['RESIDENTIAL UNITS','COMMERCIAL UNITS','TOTAL UNITS','LAND SQUARE FEET','GROSS SQUARE FEET','YEAR BUILT','SALE PRICE']\n",
    "for col in columns:\n",
    "    print(col, np.ptp(df_new[col]))\n"
   ]
  },
  {
   "cell_type": "markdown",
   "id": "84698f4b-376a-4477-9ad8-e66247636f94",
   "metadata": {},
   "source": [
    "## Measure of Spread : Variance"
   ]
  },
  {
   "cell_type": "markdown",
   "id": "eda7d783-d3e9-46f1-b22c-1d16851a1472",
   "metadata": {},
   "source": [
    "Menghitung Variance menggunakan Pandas"
   ]
  },
  {
   "cell_type": "code",
   "execution_count": 35,
   "id": "1eeb22a1-092b-4a23-abf4-c277c950251d",
   "metadata": {},
   "outputs": [
    {
     "name": "stdout",
     "output_type": "stream",
     "text": [
      "RESIDENTIAL UNITS 203.879\n",
      "COMMERCIAL UNITS 186.16\n",
      "TOTAL UNITS 393.185\n",
      "LAND SQUARE FEET 1343839494.447\n",
      "GROSS SQUARE FEET 662628176.001\n",
      "YEAR BUILT 965.977\n",
      "SALE PRICE 1187888252708.402\n"
     ]
    }
   ],
   "source": [
    "columns=['RESIDENTIAL UNITS','COMMERCIAL UNITS','TOTAL UNITS','LAND SQUARE FEET','GROSS SQUARE FEET','YEAR BUILT','SALE PRICE']\n",
    "for col in columns:\n",
    "    print(col, round(df_new[col].var(), 3))"
   ]
  },
  {
   "cell_type": "markdown",
   "id": "5fd63f75-e1c7-4440-be22-dd8b4e05ec56",
   "metadata": {},
   "source": [
    "Menghitung Variance menggunakan Numpy"
   ]
  },
  {
   "cell_type": "code",
   "execution_count": 36,
   "id": "0b067a60-0194-4f12-9a10-26569adada38",
   "metadata": {},
   "outputs": [
    {
     "name": "stdout",
     "output_type": "stream",
     "text": [
      "RESIDENTIAL UNITS 203.872\n",
      "COMMERCIAL UNITS 186.154\n",
      "TOTAL UNITS 393.171\n",
      "LAND SQUARE FEET 1343791262.464\n",
      "GROSS SQUARE FEET 662604393.495\n",
      "YEAR BUILT 965.942\n",
      "SALE PRICE 1187845617999.741\n"
     ]
    }
   ],
   "source": [
    "columns=['RESIDENTIAL UNITS','COMMERCIAL UNITS','TOTAL UNITS','LAND SQUARE FEET','GROSS SQUARE FEET','YEAR BUILT','SALE PRICE']\n",
    "for col in columns:\n",
    "    print(col, round(np.var(df_new[col]), 3))"
   ]
  },
  {
   "cell_type": "markdown",
   "id": "7f705a97-4474-4214-b047-54320f554a9a",
   "metadata": {},
   "source": [
    "## Measure of Spread : Standard Deviation"
   ]
  },
  {
   "cell_type": "markdown",
   "id": "cdf5a098-712c-46e2-82da-d8b936beaded",
   "metadata": {},
   "source": [
    "Menghitung Standard Deviasi menggunakan Pandas"
   ]
  },
  {
   "cell_type": "code",
   "execution_count": 37,
   "id": "cfb51e07-b089-4811-a833-235ec82c76d4",
   "metadata": {},
   "outputs": [
    {
     "name": "stdout",
     "output_type": "stream",
     "text": [
      "RESIDENTIAL UNITS 14.279\n",
      "COMMERCIAL UNITS 13.644\n",
      "TOTAL UNITS 19.829\n",
      "LAND SQUARE FEET 36658.416\n",
      "GROSS SQUARE FEET 25741.565\n",
      "YEAR BUILT 31.08\n",
      "SALE PRICE 1089902.864\n"
     ]
    }
   ],
   "source": [
    "columns=['RESIDENTIAL UNITS','COMMERCIAL UNITS','TOTAL UNITS','LAND SQUARE FEET','GROSS SQUARE FEET','YEAR BUILT','SALE PRICE']\n",
    "for col in columns:\n",
    "    print(col, round(df_new[col].std(), 3))"
   ]
  },
  {
   "cell_type": "markdown",
   "id": "41295c23-f7e6-42c7-a79b-338b8cc00671",
   "metadata": {},
   "source": [
    "Menghitung Standard Deviasi menggunakan Numpy"
   ]
  },
  {
   "cell_type": "code",
   "execution_count": 38,
   "id": "39ca5368-b05c-49b9-b55a-ab352f29710b",
   "metadata": {},
   "outputs": [
    {
     "name": "stdout",
     "output_type": "stream",
     "text": [
      "RESIDENTIAL UNITS 14.278\n",
      "COMMERCIAL UNITS 13.644\n",
      "TOTAL UNITS 19.829\n",
      "LAND SQUARE FEET 36657.759\n",
      "GROSS SQUARE FEET 25741.103\n",
      "YEAR BUILT 31.08\n",
      "SALE PRICE 1089883.305\n"
     ]
    }
   ],
   "source": [
    "columns=['RESIDENTIAL UNITS','COMMERCIAL UNITS','TOTAL UNITS','LAND SQUARE FEET','GROSS SQUARE FEET','YEAR BUILT','SALE PRICE']\n",
    "for col in columns:\n",
    "    print(col, round(np.std(df_new[col]), 3))"
   ]
  },
  {
   "cell_type": "markdown",
   "id": "6413ad29-61a2-454e-9455-6b00aab9668d",
   "metadata": {},
   "source": [
    "## Probability Distribution"
   ]
  },
  {
   "cell_type": "code",
   "execution_count": 39,
   "id": "11ea93c1-bdaf-4837-90bd-e565313be06a",
   "metadata": {},
   "outputs": [
    {
     "data": {
      "image/png": "[encoded data removed]",
      "text/plain": [
       "<Figure size 864x648 with 1 Axes>"
      ]
     },
     "metadata": {
      "needs_background": "light"
     },
     "output_type": "display_data"
    }
   ],
   "source": [
    "# View Distribution of Sample Means (Biasanya disebut dengan Sampling Distribution)\n",
    "import matplotlib.pyplot as plt\n",
    "import seaborn as sns\n",
    "plt.figure(figsize=(12,9))\n",
    "sns.distplot(df_new['SALE PRICE'], kde=True, bins=50, rug=True)\n",
    "plt.title(\"Distribution of Sale Price in New York City Property Sales\",\n",
    "          y=1.015, fontsize=20)\n",
    "plt.xlabel(\"Sale Price\", labelpad=14)\n",
    "plt.ylabel(\"frequency\", labelpad=14);"
   ]
  },
  {
   "cell_type": "code",
   "execution_count": 40,
   "id": "f2443afb-af26-4884-a336-986cde956c19",
   "metadata": {},
   "outputs": [
    {
     "data": {
      "text/html": [
       "<div>\n",
       "<style scoped>\n",
       "    .dataframe tbody tr th:only-of-type {\n",
       "        vertical-align: middle;\n",
       "    }\n",
       "\n",
       "    .dataframe tbody tr th {\n",
       "        vertical-align: top;\n",
       "    }\n",
       "\n",
       "    .dataframe thead th {\n",
       "        text-align: right;\n",
       "    }\n",
       "</style>\n",
       "<table border=\"1\" class=\"dataframe\">\n",
       "  <thead>\n",
       "    <tr style=\"text-align: right;\">\n",
       "      <th></th>\n",
       "      <th>RESIDENTIAL UNITS</th>\n",
       "      <th>COMMERCIAL UNITS</th>\n",
       "      <th>TOTAL UNITS</th>\n",
       "      <th>LAND SQUARE FEET</th>\n",
       "      <th>GROSS SQUARE FEET</th>\n",
       "      <th>YEAR BUILT</th>\n",
       "      <th>SALE PRICE</th>\n",
       "    </tr>\n",
       "  </thead>\n",
       "  <tbody>\n",
       "    <tr>\n",
       "      <th>count</th>\n",
       "      <td>27862.000</td>\n",
       "      <td>27862.000</td>\n",
       "      <td>27862.000</td>\n",
       "      <td>27862.000</td>\n",
       "      <td>27862.000</td>\n",
       "      <td>27862.000</td>\n",
       "      <td>27862.000</td>\n",
       "    </tr>\n",
       "    <tr>\n",
       "      <th>mean</th>\n",
       "      <td>2.341</td>\n",
       "      <td>0.227</td>\n",
       "      <td>2.568</td>\n",
       "      <td>3861.434</td>\n",
       "      <td>3121.873</td>\n",
       "      <td>1941.002</td>\n",
       "      <td>917141.687</td>\n",
       "    </tr>\n",
       "    <tr>\n",
       "      <th>std</th>\n",
       "      <td>14.279</td>\n",
       "      <td>13.644</td>\n",
       "      <td>19.829</td>\n",
       "      <td>36658.416</td>\n",
       "      <td>25741.565</td>\n",
       "      <td>31.080</td>\n",
       "      <td>1089902.864</td>\n",
       "    </tr>\n",
       "    <tr>\n",
       "      <th>min</th>\n",
       "      <td>0.000</td>\n",
       "      <td>0.000</td>\n",
       "      <td>0.000</td>\n",
       "      <td>168.000</td>\n",
       "      <td>120.000</td>\n",
       "      <td>1111.000</td>\n",
       "      <td>10001.000</td>\n",
       "    </tr>\n",
       "    <tr>\n",
       "      <th>25%</th>\n",
       "      <td>1.000</td>\n",
       "      <td>0.000</td>\n",
       "      <td>1.000</td>\n",
       "      <td>2000.000</td>\n",
       "      <td>1355.000</td>\n",
       "      <td>1920.000</td>\n",
       "      <td>435000.000</td>\n",
       "    </tr>\n",
       "    <tr>\n",
       "      <th>50%</th>\n",
       "      <td>2.000</td>\n",
       "      <td>0.000</td>\n",
       "      <td>2.000</td>\n",
       "      <td>2500.000</td>\n",
       "      <td>1848.000</td>\n",
       "      <td>1930.000</td>\n",
       "      <td>625000.000</td>\n",
       "    </tr>\n",
       "    <tr>\n",
       "      <th>75%</th>\n",
       "      <td>2.000</td>\n",
       "      <td>0.000</td>\n",
       "      <td>2.000</td>\n",
       "      <td>3917.000</td>\n",
       "      <td>2600.000</td>\n",
       "      <td>1960.000</td>\n",
       "      <td>949000.000</td>\n",
       "    </tr>\n",
       "    <tr>\n",
       "      <th>max</th>\n",
       "      <td>1844.000</td>\n",
       "      <td>2261.000</td>\n",
       "      <td>2261.000</td>\n",
       "      <td>4228300.000</td>\n",
       "      <td>3750565.000</td>\n",
       "      <td>2017.000</td>\n",
       "      <td>9999999.000</td>\n",
       "    </tr>\n",
       "  </tbody>\n",
       "</table>\n",
       "</div>"
      ],
      "text/plain": [
       "       RESIDENTIAL UNITS  COMMERCIAL UNITS  TOTAL UNITS  LAND SQUARE FEET  \\\n",
       "count          27862.000         27862.000    27862.000         27862.000   \n",
       "mean               2.341             0.227        2.568          3861.434   \n",
       "std               14.279            13.644       19.829         36658.416   \n",
       "min                0.000             0.000        0.000           168.000   \n",
       "25%                1.000             0.000        1.000          2000.000   \n",
       "50%                2.000             0.000        2.000          2500.000   \n",
       "75%                2.000             0.000        2.000          3917.000   \n",
       "max             1844.000          2261.000     2261.000       4228300.000   \n",
       "\n",
       "       GROSS SQUARE FEET  YEAR BUILT   SALE PRICE  \n",
       "count          27862.000   27862.000    27862.000  \n",
       "mean            3121.873    1941.002   917141.687  \n",
       "std            25741.565      31.080  1089902.864  \n",
       "min              120.000    1111.000    10001.000  \n",
       "25%             1355.000    1920.000   435000.000  \n",
       "50%             1848.000    1930.000   625000.000  \n",
       "75%             2600.000    1960.000   949000.000  \n",
       "max          3750565.000    2017.000  9999999.000  "
      ]
     },
     "execution_count": 40,
     "metadata": {},
     "output_type": "execute_result"
    }
   ],
   "source": [
    "round(df_new.describe(),3)"
   ]
  },
  {
   "cell_type": "markdown",
   "id": "46912a9c-2da3-4054-81d2-f82234ef6a59",
   "metadata": {},
   "source": [
    "Pada histogram diatas menunjukkan bahwa data distribusi harga penjualan properti pada kota New York  ` berdistribusi normal` dengan\n",
    "- mean : 917141.687\n",
    "- median : 625000.0\n",
    "- standart deviasi : 1089902.864"
   ]
  },
  {
   "cell_type": "markdown",
   "id": "26c0f4aa-1dbd-4bf6-a5b3-b918643cb9a8",
   "metadata": {},
   "source": [
    "## Convidence Interval"
   ]
  },
  {
   "cell_type": "code",
   "execution_count": 41,
   "id": "006bc2c7-dec3-4539-8d80-c005d95c39b8",
   "metadata": {},
   "outputs": [
    {
     "data": {
      "text/plain": [
       "(904344.0510066777, 929939.3222615729)"
      ]
     },
     "execution_count": 41,
     "metadata": {},
     "output_type": "execute_result"
    }
   ],
   "source": [
    "import numpy as np\n",
    "import scipy.stats as st\n",
    "sale= df_new['SALE PRICE']\n",
    "st.norm.interval(alpha=0.95, loc=np.mean(sale), scale=st.sem(sale))"
   ]
  },
  {
   "cell_type": "markdown",
   "id": "c8dedabe-e5f3-4969-b6c1-a78047ab3a93",
   "metadata": {},
   "source": [
    "## Hypothesis Testing"
   ]
  },
  {
   "cell_type": "markdown",
   "id": "877c7f23-0d85-4e66-980e-369f11d19680",
   "metadata": {},
   "source": [
    "**`Studi Kasus`**\n",
    "> **“Persebaran harga properti dikota boston dengan harga kurang atau sama dengan 850000 USD mencapai 35%. Apakah pada kota New York City  harga properti dengan harga tersebut lebih dari 35% ”**?"
   ]
  },
  {
   "cell_type": "markdown",
   "id": "0cd13282-7043-47f4-9eb8-58f9937e6f14",
   "metadata": {},
   "source": [
    "***Menentukan Null Hypothesis dan Alternative Hypothesis***\n",
    "\n",
    "**`null hypothesis`** dari studi kasus ini adalah persebaran harga properti di New York City dengan harga `kurang dari atau sama dengan 850000 mencapai 35%` sedangkan **`hypothesis alternative`** adalah persebaran harga properti di New York City mencapai harga `kurang dari atau sama dengan 850000 mencapai lebih dari 35% `\n",
    "\n",
    "**`Null Hypothesis`** : \n",
    "- Ho: p0 <= 0.35\n",
    "\n",
    "**`Alternative Hypothesis`** : \n",
    "- Ha: p > 0.35\n"
   ]
  },
  {
   "cell_type": "markdown",
   "id": "d249b736-2e91-4a6c-905a-853e76a3f5b9",
   "metadata": {},
   "source": [
    "***Menghitung persebaran atau proporsi harga properti kurang dari atau sama dengan 850000 pada New York City***"
   ]
  },
  {
   "cell_type": "code",
   "execution_count": 42,
   "id": "075ea10f-a793-4d41-8963-78e4ee894a47",
   "metadata": {},
   "outputs": [
    {
     "data": {
      "text/plain": [
       "0.178588524214864"
      ]
     },
     "execution_count": 42,
     "metadata": {},
     "output_type": "execute_result"
    }
   ],
   "source": [
    "p_sale = len(df_new[df_new['SALE PRICE']>=850000])/len(df)\n",
    "p_sale"
   ]
  },
  {
   "cell_type": "markdown",
   "id": "5f5de8b3-7fc5-474c-9d52-ce1d0ebbb4f2",
   "metadata": {},
   "source": [
    "Persebaran harga properti dikota New York City dengan harga kurang dari atau sama dengan 850000 adalah 0.18 atau 18%. Presentase tersebut sama seperti pernyataan pada null hypothesis.\n",
    "untuk memastikan pernyataan secara signifikan sama dengan null hyopotesis tersebut kita perlu melakukan hypothesis test"
   ]
  },
  {
   "cell_type": "markdown",
   "id": "84098000-7f41-4c63-90b5-7fa559151521",
   "metadata": {},
   "source": [
    "***Menghitung Tes Statistic/ Z-Score***\n",
    "\n",
    "Dalam menghitung tes ini diketahui po adalah 0.35 dan n adalah ukuran sampel populasi"
   ]
  },
  {
   "cell_type": "code",
   "execution_count": 43,
   "id": "464aeadf-ee1a-43a5-94ff-8d55cf5f86b0",
   "metadata": {},
   "outputs": [
    {
     "data": {
      "text/plain": [
       "0.002055444914144912"
      ]
     },
     "execution_count": 43,
     "metadata": {},
     "output_type": "execute_result"
    }
   ],
   "source": [
    "se = np.sqrt(0.35 * (1-0.42) / len(df))\n",
    "se"
   ]
  },
  {
   "cell_type": "code",
   "execution_count": 44,
   "id": "07a6a61c-ddd0-47ad-9065-2607eaf57238",
   "metadata": {},
   "outputs": [
    {
     "data": {
      "text/plain": [
       "-83.39385531839712"
      ]
     },
     "execution_count": 44,
     "metadata": {},
     "output_type": "execute_result"
    }
   ],
   "source": [
    "#Best estimate\n",
    "be = p_sale\n",
    "\n",
    "#hypothesized estimate\n",
    "he = 0.35\n",
    "test_stat = (be - he)/se\n",
    "test_stat"
   ]
  },
  {
   "cell_type": "markdown",
   "id": "95b8ed49-e610-4a96-98a7-16945985c144",
   "metadata": {},
   "source": [
    "Hasil test statistics adalah `-82.344`"
   ]
  },
  {
   "cell_type": "markdown",
   "id": "b3f8d64d-f5f6-46e1-bf67-d4afdea9a115",
   "metadata": {},
   "source": [
    "***menghitung p-value***"
   ]
  },
  {
   "cell_type": "code",
   "execution_count": 45,
   "id": "c104775d-24d0-4001-bef5-471062c09372",
   "metadata": {},
   "outputs": [
    {
     "name": "stdout",
     "output_type": "stream",
     "text": [
      "0.0\n"
     ]
    }
   ],
   "source": [
    "import scipy.stats.distributions as dist\n",
    "pvalue = 2*dist.norm.cdf(-np.abs(test_stat))\n",
    "print(pvalue)"
   ]
  },
  {
   "cell_type": "markdown",
   "id": "820b7c1d-ae64-4346-b6ea-824e412860e7",
   "metadata": {},
   "source": [
    "`p-value adalah 0.0`"
   ]
  },
  {
   "cell_type": "markdown",
   "id": "b879d402-dfb8-4cbd-8ec5-de04b28711b9",
   "metadata": {},
   "source": [
    "***Kesimpulan dari p-value***\n",
    "\n",
    "Dengan level alpha 0.05 ataau 5%. Maka ada 95% kemungkinan atau lebih besar bahwa hasilnya tidak acak. \n",
    "\n",
    "Dari hasil p-value yang didapat, pvalue lebih rendah dari significance level yaitu 0.05. Maka dengan ini Ho atau null Hypothesis diterima. Dapat disimpulkan bahwa harga property di New York City dengan harga 850000 USD tidak lebih dari 35% serta tidak terdapat perbedaan yang signifikan dalam hal tersebut. "
   ]
  }
 ],
 "metadata": {
  "kernelspec": {
   "display_name": "Python 3.10.8 64-bit (microsoft store)",
   "language": "python",
   "name": "python3"
  },
  "language_info": {
   "codemirror_mode": {
    "name": "ipython",
    "version": 3
   },
   "file_extension": ".py",
   "mimetype": "text/x-python",
   "name": "python",
   "nbconvert_exporter": "python",
   "pygments_lexer": "ipython3",
   "version": "3.10.8"
  },
  "vscode": {
   "interpreter": {
    "hash": "3b7e9cb8e453d6cda0fe8c8dd13f891a1f09162f0e7c66ffeae7751a7aecf00d"
   }
  }
 },
 "nbformat": 4,
 "nbformat_minor": 5
}
